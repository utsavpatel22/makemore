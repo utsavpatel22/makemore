{
 "cells": [
  {
   "cell_type": "markdown",
   "id": "74011403",
   "metadata": {},
   "source": [
    "# Makemore part: 3"
   ]
  },
  {
   "cell_type": "code",
   "execution_count": 1,
   "id": "c2065d84",
   "metadata": {},
   "outputs": [],
   "source": [
    "import torch\n",
    "import torch.nn.functional as F\n",
    "import matplotlib.pyplot as plt\n",
    "%matplotlib inline"
   ]
  },
  {
   "cell_type": "code",
   "execution_count": 2,
   "id": "dfacf77e",
   "metadata": {},
   "outputs": [
    {
     "data": {
      "text/plain": [
       "['emma', 'olivia', 'ava', 'isabella', 'sophia', 'charlotte', 'mia', 'amelia']"
      ]
     },
     "execution_count": 2,
     "metadata": {},
     "output_type": "execute_result"
    }
   ],
   "source": [
    "# Read all the words \n",
    "words = open('names.txt', 'r').read().splitlines()\n",
    "words[:8]"
   ]
  },
  {
   "cell_type": "code",
   "execution_count": 3,
   "id": "7ffc86d5",
   "metadata": {},
   "outputs": [
    {
     "data": {
      "text/plain": [
       "32033"
      ]
     },
     "execution_count": 3,
     "metadata": {},
     "output_type": "execute_result"
    }
   ],
   "source": [
    "len(words)"
   ]
  },
  {
   "cell_type": "code",
   "execution_count": 4,
   "id": "a2dd5e46",
   "metadata": {},
   "outputs": [
    {
     "name": "stdout",
     "output_type": "stream",
     "text": [
      "{1: 'a', 2: 'b', 3: 'c', 4: 'd', 5: 'e', 6: 'f', 7: 'g', 8: 'h', 9: 'i', 10: 'j', 11: 'k', 12: 'l', 13: 'm', 14: 'n', 15: 'o', 16: 'p', 17: 'q', 18: 'r', 19: 's', 20: 't', 21: 'u', 22: 'v', 23: 'w', 24: 'x', 25: 'y', 26: 'z', 0: '.'}\n"
     ]
    }
   ],
   "source": [
    "# Build the volcabulary of the characters and mapping to/from integers \n",
    "chars = sorted(list(set(''.join(words))))\n",
    "stoi = {s:i+1 for i,s in enumerate(chars)}\n",
    "stoi['.'] = 0\n",
    "itos = {i:s for s,i in stoi.items()}\n",
    "print(itos)\n",
    "vocab_size = len(itos)\n"
   ]
  },
  {
   "cell_type": "code",
   "execution_count": 5,
   "id": "718efe3b",
   "metadata": {},
   "outputs": [
    {
     "name": "stdout",
     "output_type": "stream",
     "text": [
      "torch.Size([182625, 3]) torch.Size([182625])\n",
      "torch.Size([22655, 3]) torch.Size([22655])\n",
      "torch.Size([22866, 3]) torch.Size([22866])\n"
     ]
    }
   ],
   "source": [
    "# Build the dataset\n",
    "# Training split, dev/validation split, test split \n",
    "# 80%, 10%, 10%\n",
    "# Training set: Used to optimize the parameters of the model\n",
    "# Dev/ validation set: Used to development of all the hyperparameters of the model like size of the hidden layer, size of the embedding etc.\n",
    "# test set: evaluate the performance of the model. You should test on test set few times otherwise you might end up overfitting to test set as well. \n",
    "block_size = 3 # context length: how many characters do we take to predict the next one?\n",
    "def build_dataset(words):\n",
    "    \n",
    "    X, Y = [], []\n",
    "\n",
    "    for w in words:\n",
    "    #     print(w)\n",
    "        context = [0] * block_size\n",
    "        for ch in w + '.':\n",
    "            ix = stoi[ch]\n",
    "            X.append(context)\n",
    "            Y.append(ix)\n",
    "    #         print(''.join(itos[i] for i in context),'------>',itos[ix])\n",
    "            context = context[1:] + [ix]\n",
    "    X = torch.tensor(X)\n",
    "    Y = torch.tensor(Y)\n",
    "    print(X.shape, Y.shape)\n",
    "    return X, Y\n",
    "\n",
    "import random \n",
    "random.seed(42)\n",
    "random.shuffle(words)\n",
    "n1 = int(0.8*len(words))\n",
    "n2 = int(0.9*len(words))\n",
    "\n",
    "Xtr, Ytr = build_dataset(words[:n1])\n",
    "Xdev, Ydev = build_dataset(words[n1:n2])\n",
    "Xte, Yte = build_dataset(words[n2:])"
   ]
  },
  {
   "cell_type": "code",
   "execution_count": 6,
   "id": "8db62b6d",
   "metadata": {},
   "outputs": [
    {
     "name": "stdout",
     "output_type": "stream",
     "text": [
      "Total parameters: 11897\n"
     ]
    }
   ],
   "source": [
    "# MLP revisited \n",
    "n_embd = 10 # Dimensionality of the character embedding vectors \n",
    "n_hidden = 200 # The number of neurons in the hidden layer \n",
    "\n",
    "\n",
    "g = torch.Generator().manual_seed(2147483647)\n",
    "C = torch.randn((vocab_size,n_embd), generator=g)\n",
    "W1 = torch.randn((n_embd * block_size,n_hidden), generator=g)\n",
    "b1 = torch.randn(n_hidden, generator=g)\n",
    "W2 = torch.randn((n_hidden,vocab_size), generator=g)\n",
    "b2 = torch.randn(vocab_size, generator=g)\n",
    "parameters = [C, W1, b1, W2, b2]\n",
    "\n",
    "print(\"Total parameters:\", sum(p.nelement() for p in parameters)) # Number of parameters in total\n",
    "for p in parameters:\n",
    "    p.requires_grad = True"
   ]
  },
  {
   "cell_type": "code",
   "execution_count": 7,
   "id": "298e3d74",
   "metadata": {},
   "outputs": [
    {
     "name": "stdout",
     "output_type": "stream",
     "text": [
      "      0/ 200000:27.8817\n",
      "  10000/ 200000:2.8263\n",
      "  20000/ 200000:2.5130\n",
      "  30000/ 200000:2.8010\n",
      "  40000/ 200000:2.0541\n",
      "  50000/ 200000:2.6152\n",
      "  60000/ 200000:2.3549\n",
      "  70000/ 200000:2.0835\n",
      "  80000/ 200000:2.2652\n",
      "  90000/ 200000:2.2635\n",
      " 100000/ 200000:2.0810\n",
      " 110000/ 200000:2.5915\n",
      " 120000/ 200000:1.9485\n",
      " 130000/ 200000:2.7237\n",
      " 140000/ 200000:2.2815\n",
      " 150000/ 200000:2.2346\n",
      " 160000/ 200000:1.9754\n",
      " 170000/ 200000:1.8894\n",
      " 180000/ 200000:2.3446\n",
      " 190000/ 200000:1.8712\n"
     ]
    }
   ],
   "source": [
    "max_steps = 200000\n",
    "batch_size = 32\n",
    "lossi = []\n",
    "\n",
    "for i in range(max_steps):\n",
    "    # Creating a mini batch \n",
    "    ix = torch.randint(0, Xtr.shape[0], (batch_size, ), generator=g)\n",
    "    # Forward pass\n",
    "    emb = C[Xtr[ix]] # (32,3,2) # Embed the characters into vectors\n",
    "    embcat = emb.view(emb.shape[0], -1) # Concatenate the vectors\n",
    "    hpreact = embcat @ W1 + b1\n",
    "    h = torch.tanh(hpreact)\n",
    "    logits = h @ W2 + b2\n",
    "    loss = F.cross_entropy(logits, Ytr[ix])\n",
    "    # Backward pass\n",
    "    for p in parameters:\n",
    "        p.grad = None\n",
    "    loss.backward()\n",
    "    #Update\n",
    "    lr = 0.1 if i < 100000 else 0.01\n",
    "    for p in parameters:\n",
    "        p.data += -0.1 * p.grad\n",
    "    # Track status\n",
    "    if i % 10000 == 0: # Print every once in a while\n",
    "        print(f'{i:7d}/{max_steps:7d}:{loss.item():.4f}')\n",
    "    lossi.append(loss.log10().item())\n",
    "    \n"
   ]
  },
  {
   "cell_type": "code",
   "execution_count": 8,
   "id": "058c031e",
   "metadata": {},
   "outputs": [
    {
     "data": {
      "text/plain": [
       "[<matplotlib.lines.Line2D at 0x1354131d0>]"
      ]
     },
     "execution_count": 8,
     "metadata": {},
     "output_type": "execute_result"
    },
    {
     "data": {
      "image/png": "[encoded data removed]",
      "text/plain": [
       "<Figure size 640x480 with 1 Axes>"
      ]
     },
     "metadata": {},
     "output_type": "display_data"
    }
   ],
   "source": [
    "plt.plot(lossi)"
   ]
  },
  {
   "cell_type": "code",
   "execution_count": 9,
   "id": "eed23ded",
   "metadata": {},
   "outputs": [
    {
     "name": "stdout",
     "output_type": "stream",
     "text": [
      "train 2.187913179397583\n",
      "val 2.2472822666168213\n"
     ]
    }
   ],
   "source": [
    "@torch.no_grad() # This decorator disables gradient tracking it almost like all the tensors created in the function has requires_grad = falls. \n",
    "def split_loss(split):\n",
    "    x,y = {\n",
    "        'train': (Xtr, Ytr),\n",
    "        'val': {Xdev, Ydev},\n",
    "        'test': {Xte, Yte},\n",
    "    }[split]\n",
    "    emb = C[x]\n",
    "    embcat = emb.view(emb.shape[0], -1) # Concatenate the vectors\n",
    "    h = torch.tanh(embcat @ W1 + b1)\n",
    "    logits = h @ W2 + b2\n",
    "    loss = F.cross_entropy(logits, y)\n",
    "    print(split, loss.item())\n",
    "    \n",
    "split_loss('train')\n",
    "split_loss('val')"
   ]
  },
  {
   "cell_type": "code",
   "execution_count": 10,
   "id": "1e8c3966",
   "metadata": {},
   "outputs": [
    {
     "name": "stdout",
     "output_type": "stream",
     "text": [
      "carmahzato.\n",
      "heri.\n",
      "kemy.\n",
      "khem.\n",
      "cassanden.\n",
      "jazon.\n",
      "nadelyah.\n",
      "jareei.\n",
      "nellara.\n",
      "chriivon.\n",
      "nechysham.\n",
      "edin.\n",
      "quinthonor.\n",
      "emmarebi.\n",
      "wazthon.\n",
      "jaryxi.\n",
      "jayenni.\n",
      "sai.\n",
      "eddeci.\n",
      "aketzeley.\n"
     ]
    }
   ],
   "source": [
    "# Sample from the model \n",
    "g = torch.Generator().manual_seed(2147483647 + 10)\n",
    "\n",
    "for _ in range(20):\n",
    "    out = []\n",
    "    context = [0] * block_size # Initialize with all ...\n",
    "    while True:\n",
    "        emb = C[torch.tensor([context])]\n",
    "        h = torch.tanh(emb.view(1,-1) @ W1 + b1)\n",
    "        logits = h @ W2 + b2\n",
    "        probs = F.softmax(logits, dim=1)\n",
    "        ix = torch.multinomial(probs, num_samples=1, generator=g).item()\n",
    "        context = context[1:] + [ix]\n",
    "        out.append(ix)\n",
    "        if ix == 0:\n",
    "            break\n",
    "    print(''.join(itos[i] for i in out))\n",
    "        \n",
    "        \n",
    "        "
   ]
  },
  {
   "cell_type": "markdown",
   "id": "56f23ebf",
   "metadata": {},
   "source": [
    "## What is wrong here?\n",
    "- At the initialization of this network, the loss is too high (around 26). It shows the network is poorly configured at the initialization. \n",
    "- With training of neural nets you have a rough idea of what loss to expect at initialization. \n",
    "- For this particular case, we know that at the start all the 27 characters are equally likely to come next for any training example. So we would expect uniform probability distribution in the beginning. So the probability of any character should be 1/27 in our example. In the following cell what loss we should expect at the initialization is calculated. \n"
   ]
  },
  {
   "cell_type": "code",
   "execution_count": 11,
   "id": "a4bdb57b",
   "metadata": {},
   "outputs": [
    {
     "data": {
      "text/plain": [
       "tensor(3.2958)"
      ]
     },
     "execution_count": 11,
     "metadata": {},
     "output_type": "execute_result"
    }
   ],
   "source": [
    "-torch.tensor(1/27.0).log()"
   ]
  },
  {
   "cell_type": "markdown",
   "id": "538b0c89",
   "metadata": {},
   "source": [
    "### Fixing initialization:\n",
    "- With our current initialization, the neural net is creating probability distribution that is all messed up. Some characters are assigned very high probability whereas some are assigned very low probability. So the network is very confidently wrong. Thats what makes it record very high loss. \n",
    "- In the following cells, we are rectifying this issue. The current values of logits are very high. We are trying make them come close to zero.\n",
    "- The first step is to make b2 zero as that is adding in logits calculation. \n",
    "- Second is to scale down w2. "
   ]
  },
  {
   "cell_type": "code",
   "execution_count": 12,
   "id": "8467d906",
   "metadata": {},
   "outputs": [
    {
     "name": "stdout",
     "output_type": "stream",
     "text": [
      "Total parameters: 11897\n"
     ]
    }
   ],
   "source": [
    "n_embd = 10 # Dimensionality of the character embedding vectors \n",
    "n_hidden = 200 # The number of neurons in the hidden layer \n",
    "\n",
    "\n",
    "g = torch.Generator().manual_seed(2147483647)\n",
    "C = torch.randn((vocab_size,n_embd), generator=g)\n",
    "W1 = torch.randn((n_embd * block_size,n_hidden), generator=g)\n",
    "b1 = torch.randn(n_hidden, generator=g)\n",
    "W2 = torch.randn((n_hidden,vocab_size), generator=g) * 0.01\n",
    "b2 = torch.randn(vocab_size, generator=g) * 0\n",
    "parameters = [C, W1, b1, W2, b2]\n",
    "\n",
    "print(\"Total parameters:\", sum(p.nelement() for p in parameters)) # Number of parameters in total\n",
    "for p in parameters:\n",
    "    p.requires_grad = True"
   ]
  },
  {
   "cell_type": "code",
   "execution_count": 13,
   "id": "76965e94",
   "metadata": {},
   "outputs": [
    {
     "name": "stdout",
     "output_type": "stream",
     "text": [
      "      0/ 200000:3.3221\n",
      "  10000/ 200000:2.1900\n",
      "  20000/ 200000:2.4196\n",
      "  30000/ 200000:2.6067\n",
      "  40000/ 200000:2.0601\n",
      "  50000/ 200000:2.4988\n",
      "  60000/ 200000:2.3902\n",
      "  70000/ 200000:2.1344\n",
      "  80000/ 200000:2.3369\n",
      "  90000/ 200000:2.1299\n",
      " 100000/ 200000:1.8329\n",
      " 110000/ 200000:2.4014\n",
      " 120000/ 200000:1.8665\n",
      " 130000/ 200000:2.4811\n",
      " 140000/ 200000:2.3315\n",
      " 150000/ 200000:2.2080\n",
      " 160000/ 200000:1.9675\n",
      " 170000/ 200000:1.9001\n",
      " 180000/ 200000:2.1144\n",
      " 190000/ 200000:1.8790\n"
     ]
    }
   ],
   "source": [
    "max_steps = 200000\n",
    "batch_size = 32\n",
    "lossi = []\n",
    "\n",
    "for i in range(max_steps):\n",
    "    # Creating a mini batch \n",
    "    ix = torch.randint(0, Xtr.shape[0], (batch_size, ), generator=g)\n",
    "    # Forward pass\n",
    "    emb = C[Xtr[ix]] # (32,3,2) # Embed the characters into vectors\n",
    "    embcat = emb.view(emb.shape[0], -1) # Concatenate the vectors\n",
    "    hpreact = embcat @ W1 + b1\n",
    "    h = torch.tanh(hpreact)\n",
    "    logits = h @ W2 + b2\n",
    "    loss = F.cross_entropy(logits, Ytr[ix])\n",
    "    # Backward pass\n",
    "    for p in parameters:\n",
    "        p.grad = None\n",
    "    loss.backward()\n",
    "    #Update\n",
    "    lr = 0.1 if i < 100000 else 0.01\n",
    "    for p in parameters:\n",
    "        p.data += -0.1 * p.grad\n",
    "    # Track status\n",
    "    if i % 10000 == 0: # Print every once in a while\n",
    "        print(f'{i:7d}/{max_steps:7d}:{loss.item():.4f}')\n",
    "    lossi.append(loss.log10().item())\n",
    "    \n",
    "    \n"
   ]
  },
  {
   "cell_type": "markdown",
   "id": "4465508e",
   "metadata": {},
   "source": [
    "#### Note:\n",
    "- We will now not be getting the hockey shape graph. This it true for any neural network we train. "
   ]
  },
  {
   "cell_type": "code",
   "execution_count": 14,
   "id": "bcdf5c08",
   "metadata": {},
   "outputs": [
    {
     "data": {
      "text/plain": [
       "[<matplotlib.lines.Line2D at 0x17c0f5510>]"
      ]
     },
     "execution_count": 14,
     "metadata": {},
     "output_type": "execute_result"
    },
    {
     "data": {
      "image/png": "[encoded data removed]",
      "text/plain": [
       "<Figure size 640x480 with 1 Axes>"
      ]
     },
     "metadata": {},
     "output_type": "display_data"
    }
   ],
   "source": [
    "plt.plot(lossi)"
   ]
  },
  {
   "cell_type": "code",
   "execution_count": 15,
   "id": "67c33737",
   "metadata": {},
   "outputs": [
    {
     "name": "stdout",
     "output_type": "stream",
     "text": [
      "train 2.1578962802886963\n",
      "val 2.229379653930664\n"
     ]
    }
   ],
   "source": [
    "@torch.no_grad() # This decorator disables gradient tracking it almost like all the tensors created in the function has requires_grad = falls. \n",
    "def split_loss(split):\n",
    "    x,y = {\n",
    "        'train': (Xtr, Ytr),\n",
    "        'val': {Xdev, Ydev},\n",
    "        'test': {Xte, Yte},\n",
    "    }[split]\n",
    "    emb = C[x]\n",
    "    embcat = emb.view(emb.shape[0], -1) # Concatenate the vectors\n",
    "    h = torch.tanh(embcat @ W1 + b1)\n",
    "    logits = h @ W2 + b2\n",
    "    loss = F.cross_entropy(logits, y)\n",
    "    print(split, loss.item())\n",
    "    \n",
    "split_loss('train')\n",
    "split_loss('val')"
   ]
  },
  {
   "cell_type": "markdown",
   "id": "0adf9aa4",
   "metadata": {},
   "source": [
    "### Note\n",
    "- As we can see, we are getting slightly better results than the previous iteration because we are spending more time actually training the model rather than speding training iterations on squashing the weights initially. "
   ]
  },
  {
   "cell_type": "markdown",
   "id": "412a75c7",
   "metadata": {},
   "source": [
    "### Problem with h:\n",
    "- Now as we resolved the initialization problem, there are still some issues with the value of h. \n",
    "- Many elements of h are 1 or -1. \n",
    "- tanh is a squashing function, meaning it will squash the input values between 1 and -1. \n",
    "- See the histogram below. \n",
    "- This will create a problem during back propogation. If the value is 1 or -1, we are killing the gradient by making it 0 (Check the equation of backward pass for the tanh layer). So we are effectively making the backpropogation through this tanh layer. Intutively as well the value of slope near the end of tanh is almost zero. \n",
    "- To futher assess the problem. We are also plotting the absolute values of h as a figure to show that how many times it is greater than 0.99. White parts shows whenever the condition is true. \n",
    "- In the figure, if any one column is entirely white then that corresponds to a dead neuron out of the 200 neurons. These neurons will never learn as the gradient never passes through them.\n",
    "- This is not just true for tanh but true for a lot of other non-linearities. \n",
    "- This dead neuron can happen during the intialization stage when the weights and biases are such that they are not in the learning range and the neurons are dead.\n",
    "- But this can also happen during the learning stage (optimization stage) as well. When the gradient is so high (maybe due to very high learning rate) that it will knock that neuron out of the data manifold, and from then no example will ever activate the neuron. They will like dead brain cells (permanent brain damage).  \n",
    "- Some non linearities like leaky relu doesnt suffer this issue. "
   ]
  },
  {
   "cell_type": "code",
   "execution_count": 16,
   "id": "e15df13e",
   "metadata": {},
   "outputs": [
    {
     "data": {
      "text/plain": [
       "<matplotlib.image.AxesImage at 0x17c2db190>"
      ]
     },
     "execution_count": 16,
     "metadata": {},
     "output_type": "execute_result"
    },
    {
     "data": {
      "image/png": "[encoded data removed]",
      "text/plain": [
       "<Figure size 640x480 with 1 Axes>"
      ]
     },
     "metadata": {},
     "output_type": "display_data"
    },
    {
     "data": {
      "image/png": "[encoded data removed]",
      "text/plain": [
       "<Figure size 2000x1000 with 1 Axes>"
      ]
     },
     "metadata": {},
     "output_type": "display_data"
    }
   ],
   "source": [
    "plt.hist(h.view(-1).tolist(), 50)\n",
    "plt.figure(figsize=(20,10))\n",
    "plt.imshow(h.abs() > 0.99, cmap='gray', interpolation='nearest')"
   ]
  },
  {
   "cell_type": "markdown",
   "id": "d342a9f2",
   "metadata": {},
   "source": [
    "### Fixing the issue with tanh\n",
    "- We will use the similar approach that we used to resolve the issue with initialization. \n",
    "- We will scale down the effect of W1 and b1 to get smaller values for hpreact "
   ]
  },
  {
   "cell_type": "code",
   "execution_count": 17,
   "id": "1930ad6c",
   "metadata": {},
   "outputs": [
    {
     "name": "stdout",
     "output_type": "stream",
     "text": [
      "Total parameters: 11897\n"
     ]
    }
   ],
   "source": [
    "# Fixing the issue with tanh\n",
    "n_embd = 10 # Dimensionality of the character embedding vectors \n",
    "n_hidden = 200 # The number of neurons in the hidden layer \n",
    "\n",
    "\n",
    "g = torch.Generator().manual_seed(2147483647)\n",
    "C = torch.randn((vocab_size,n_embd), generator=g)\n",
    "W1 = torch.randn((n_embd * block_size,n_hidden), generator=g) * 0.2\n",
    "b1 = torch.randn(n_hidden, generator=g) * 0.01\n",
    "W2 = torch.randn((n_hidden,vocab_size), generator=g) * 0.01\n",
    "b2 = torch.randn(vocab_size, generator=g) * 0\n",
    "parameters = [C, W1, b1, W2, b2]\n",
    "\n",
    "print(\"Total parameters:\", sum(p.nelement() for p in parameters)) # Number of parameters in total\n",
    "for p in parameters:\n",
    "    p.requires_grad = True"
   ]
  },
  {
   "cell_type": "code",
   "execution_count": 18,
   "id": "86541019",
   "metadata": {},
   "outputs": [
    {
     "name": "stdout",
     "output_type": "stream",
     "text": [
      "      0/ 200000:3.3135\n"
     ]
    }
   ],
   "source": [
    "max_steps = 200000\n",
    "batch_size = 32\n",
    "lossi = []\n",
    "\n",
    "for i in range(max_steps):\n",
    "    # Creating a mini batch \n",
    "    ix = torch.randint(0, Xtr.shape[0], (batch_size, ), generator=g)\n",
    "    # Forward pass\n",
    "    emb = C[Xtr[ix]] # (32,3,2) # Embed the characters into vectors\n",
    "    embcat = emb.view(emb.shape[0], -1) # Concatenate the vectors\n",
    "    hpreact = embcat @ W1 + b1\n",
    "    h = torch.tanh(hpreact)\n",
    "    logits = h @ W2 + b2\n",
    "    loss = F.cross_entropy(logits, Ytr[ix])\n",
    "    # Backward pass\n",
    "    for p in parameters:\n",
    "        p.grad = None\n",
    "    loss.backward()\n",
    "    #Update\n",
    "    lr = 0.1 if i < 100000 else 0.01\n",
    "    for p in parameters:\n",
    "        p.data += -0.1 * p.grad\n",
    "    # Track status\n",
    "    if i % 10000 == 0: # Print every once in a while\n",
    "        print(f'{i:7d}/{max_steps:7d}:{loss.item():.4f}')\n",
    "    lossi.append(loss.log10().item())\n",
    "    break\n",
    "    \n"
   ]
  },
  {
   "cell_type": "code",
   "execution_count": 19,
   "id": "43f45b3a",
   "metadata": {},
   "outputs": [
    {
     "data": {
      "text/plain": [
       "<matplotlib.image.AxesImage at 0x17fa26910>"
      ]
     },
     "execution_count": 19,
     "metadata": {},
     "output_type": "execute_result"
    },
    {
     "data": {
      "image/png": "[encoded data removed]",
      "text/plain": [
       "<Figure size 640x480 with 1 Axes>"
      ]
     },
     "metadata": {},
     "output_type": "display_data"
    },
    {
     "data": {
      "image/png": "[encoded data removed]",
      "text/plain": [
       "<Figure size 2000x1000 with 1 Axes>"
      ]
     },
     "metadata": {},
     "output_type": "display_data"
    }
   ],
   "source": [
    "plt.hist(h.view(-1).tolist(), 50)\n",
    "plt.figure(figsize=(20,10))\n",
    "plt.imshow(h.abs() > 0.99, cmap='gray', interpolation='nearest')"
   ]
  },
  {
   "cell_type": "markdown",
   "id": "379ce7f4",
   "metadata": {},
   "source": [
    "- This seems to be a nice distribution. \n",
    "- Now training the full model"
   ]
  },
  {
   "cell_type": "code",
   "execution_count": 20,
   "id": "5ee56a6e",
   "metadata": {},
   "outputs": [
    {
     "name": "stdout",
     "output_type": "stream",
     "text": [
      "      0/ 200000:3.2465\n",
      "  10000/ 200000:1.9043\n",
      "  20000/ 200000:1.9004\n",
      "  30000/ 200000:1.9465\n",
      "  40000/ 200000:2.1656\n",
      "  50000/ 200000:2.0071\n",
      "  60000/ 200000:2.0826\n",
      "  70000/ 200000:2.4228\n",
      "  80000/ 200000:2.3109\n",
      "  90000/ 200000:2.1167\n",
      " 100000/ 200000:2.2166\n",
      " 110000/ 200000:1.9169\n",
      " 120000/ 200000:2.3950\n",
      " 130000/ 200000:2.1029\n",
      " 140000/ 200000:1.9980\n",
      " 150000/ 200000:2.4943\n",
      " 160000/ 200000:2.2493\n",
      " 170000/ 200000:1.7603\n",
      " 180000/ 200000:2.0242\n",
      " 190000/ 200000:2.0386\n"
     ]
    }
   ],
   "source": [
    "max_steps = 200000\n",
    "batch_size = 32\n",
    "lossi = []\n",
    "\n",
    "for i in range(max_steps):\n",
    "    # Creating a mini batch \n",
    "    ix = torch.randint(0, Xtr.shape[0], (batch_size, ), generator=g)\n",
    "    # Forward pass\n",
    "    emb = C[Xtr[ix]] # (32,3,2) # Embed the characters into vectors\n",
    "    embcat = emb.view(emb.shape[0], -1) # Concatenate the vectors\n",
    "    hpreact = embcat @ W1 + b1\n",
    "    h = torch.tanh(hpreact)\n",
    "    logits = h @ W2 + b2\n",
    "    loss = F.cross_entropy(logits, Ytr[ix])\n",
    "    # Backward pass\n",
    "    for p in parameters:\n",
    "        p.grad = None\n",
    "    loss.backward()\n",
    "    #Update\n",
    "    lr = 0.1 if i < 100000 else 0.01\n",
    "    for p in parameters:\n",
    "        p.data += -0.1 * p.grad\n",
    "    # Track status\n",
    "    if i % 10000 == 0: # Print every once in a while\n",
    "        print(f'{i:7d}/{max_steps:7d}:{loss.item():.4f}')\n",
    "    lossi.append(loss.log10().item())\n",
    "    \n",
    "    \n"
   ]
  },
  {
   "cell_type": "code",
   "execution_count": 21,
   "id": "a9fe2d80",
   "metadata": {},
   "outputs": [
    {
     "name": "stdout",
     "output_type": "stream",
     "text": [
      "train 2.1146559715270996\n",
      "val 2.1880686283111572\n"
     ]
    }
   ],
   "source": [
    "split_loss('train')\n",
    "split_loss('val')"
   ]
  },
  {
   "cell_type": "markdown",
   "id": "091f6573",
   "metadata": {},
   "source": [
    "### Notes:\n",
    "- The results are better than what we obtain last time by just fixing the initialization. \n",
    "- We have been working with one layer MLP neural network so the optimization problem is easy and quite forgiving. This is not the case in general though. \n",
    "- With deeper networks the things can get complicated.\n",
    "- We need a structured way of intializing and coming up with the multipliers for weights and biases. \n",
    "- Lets do an experiment. Here in the following cell, we are multiplying two gaussians and finding the mean and standard deviation of the resulting gaussian. "
   ]
  },
  {
   "cell_type": "code",
   "execution_count": 22,
   "id": "a289e0e9",
   "metadata": {},
   "outputs": [
    {
     "name": "stdout",
     "output_type": "stream",
     "text": [
      "tensor(0.0114) tensor(0.9971)\n",
      "tensor(-0.0116) tensor(3.1305)\n"
     ]
    },
    {
     "data": {
      "text/plain": [
       "(array([7.07816913e-06, 0.00000000e+00, 3.53908457e-05, 4.24690148e-05,\n",
       "        8.49380296e-05, 1.62797890e-04, 1.84032397e-04, 3.39752118e-04,\n",
       "        8.49380296e-04, 1.40855566e-03, 2.09513806e-03, 3.36213034e-03,\n",
       "        5.70500432e-03, 8.65660085e-03, 1.25920629e-02, 1.96560757e-02,\n",
       "        2.94168709e-02, 4.15488528e-02, 5.79985179e-02, 7.64371484e-02,\n",
       "        9.52367657e-02, 1.14475229e-01, 1.28192721e-01, 1.35129327e-01,\n",
       "        1.32659046e-01, 1.21815291e-01, 1.07935001e-01, 8.83992543e-02,\n",
       "        6.97907476e-02, 5.14512114e-02, 3.66436816e-02, 2.52832201e-02,\n",
       "        1.74476869e-02, 1.18276206e-02, 7.16310716e-03, 4.26813599e-03,\n",
       "        3.16394160e-03, 1.76954228e-03, 9.83865509e-04, 7.07816913e-04,\n",
       "        3.04361273e-04, 2.19423243e-04, 4.95471839e-05, 7.07816913e-05,\n",
       "        1.41563383e-05, 2.83126765e-05, 0.00000000e+00, 1.41563383e-05,\n",
       "        0.00000000e+00, 7.07816913e-06]),\n",
       " array([-16.83701897, -16.1306216 , -15.42422424, -14.71782688,\n",
       "        -14.01142952, -13.30503216, -12.5986348 , -11.89223743,\n",
       "        -11.18584007, -10.47944271,  -9.77304535,  -9.06664799,\n",
       "         -8.36025063,  -7.65385326,  -6.9474559 ,  -6.24105854,\n",
       "         -5.53466118,  -4.82826382,  -4.12186646,  -3.41546909,\n",
       "         -2.70907173,  -2.00267437,  -1.29627701,  -0.58987965,\n",
       "          0.11651772,   0.82291508,   1.52931244,   2.2357098 ,\n",
       "          2.94210716,   3.64850452,   4.35490189,   5.06129925,\n",
       "          5.76769661,   6.47409397,   7.18049133,   7.88688869,\n",
       "          8.59328606,   9.29968342,  10.00608078,  10.71247814,\n",
       "         11.4188755 ,  12.12527287,  12.83167023,  13.53806759,\n",
       "         14.24446495,  14.95086231,  15.65725967,  16.36365704,\n",
       "         17.0700544 ,  17.77645176,  18.48284912]),\n",
       " <BarContainer object of 50 artists>)"
      ]
     },
     "execution_count": 22,
     "metadata": {},
     "output_type": "execute_result"
    },
    {
     "data": {
      "image/png": "[encoded data removed]",
      "text/plain": [
       "<Figure size 2000x500 with 2 Axes>"
      ]
     },
     "metadata": {},
     "output_type": "display_data"
    }
   ],
   "source": [
    "x = torch.randn(1000,10)\n",
    "w = torch.randn(10,200)\n",
    "y = x @ w\n",
    "print(x.mean(), x.std())\n",
    "print(y.mean(),y.std())\n",
    "plt.figure(figsize=(20,5))\n",
    "plt.subplot(121)\n",
    "plt.hist(x.view(-1).tolist(), 50, density=True)\n",
    "plt.subplot(122)\n",
    "plt.hist(y.view(-1).tolist(), 50, density=True)"
   ]
  },
  {
   "cell_type": "markdown",
   "id": "479e10fa",
   "metadata": {},
   "source": [
    "### Note:\n",
    "- We can see that the standard deviation increases after multiplication. \n",
    "- Lets multiply w by a small number and check the resulting standard deviation."
   ]
  },
  {
   "cell_type": "code",
   "execution_count": 23,
   "id": "ee016750",
   "metadata": {},
   "outputs": [
    {
     "name": "stdout",
     "output_type": "stream",
     "text": [
      "tensor(0.0011) tensor(1.0167)\n",
      "tensor(0.0001) tensor(0.6437)\n"
     ]
    },
    {
     "data": {
      "text/plain": [
       "(array([7.39530547e-05, 3.69765274e-05, 1.10929582e-04, 1.10929582e-04,\n",
       "        2.58835692e-04, 1.84882637e-04, 6.28600965e-04, 1.18324888e-03,\n",
       "        1.77487331e-03, 2.47742733e-03, 4.06741801e-03, 7.02554020e-03,\n",
       "        1.14627235e-02, 1.72310618e-02, 2.85089026e-02, 4.11178984e-02,\n",
       "        6.23794017e-02, 8.91134310e-02, 1.32523874e-01, 1.79225228e-01,\n",
       "        2.37352329e-01, 3.19144408e-01, 4.11142008e-01, 4.97814988e-01,\n",
       "        5.78128005e-01, 6.49603633e-01, 6.78556254e-01, 6.51045717e-01,\n",
       "        6.10926185e-01, 5.14824191e-01, 4.35842328e-01, 3.41884972e-01,\n",
       "        2.55618734e-01, 1.94607464e-01, 1.39512438e-01, 9.77289618e-02,\n",
       "        6.68165850e-02, 4.78846029e-02, 3.26132971e-02, 2.04849962e-02,\n",
       "        1.32745733e-02, 7.94995339e-03, 5.65740869e-03, 3.10602830e-03,\n",
       "        1.81184984e-03, 1.07231929e-03, 7.76507075e-04, 3.32788746e-04,\n",
       "        1.84882637e-04, 1.10929582e-04]),\n",
       " array([-3.60093856, -3.46571764, -3.33049672, -3.1952758 , -3.06005488,\n",
       "        -2.92483397, -2.78961305, -2.65439213, -2.51917121, -2.38395029,\n",
       "        -2.24872937, -2.11350845, -1.97828753, -1.84306662, -1.7078457 ,\n",
       "        -1.57262478, -1.43740386, -1.30218294, -1.16696202, -1.0317411 ,\n",
       "        -0.89652019, -0.76129927, -0.62607835, -0.49085743, -0.35563651,\n",
       "        -0.22041559, -0.08519467,  0.05002625,  0.18524716,  0.32046808,\n",
       "         0.455689  ,  0.59090992,  0.72613084,  0.86135176,  0.99657268,\n",
       "         1.13179359,  1.26701451,  1.40223543,  1.53745635,  1.67267727,\n",
       "         1.80789819,  1.94311911,  2.07834002,  2.21356094,  2.34878186,\n",
       "         2.48400278,  2.6192237 ,  2.75444462,  2.88966554,  3.02488646,\n",
       "         3.16010737]),\n",
       " <BarContainer object of 50 artists>)"
      ]
     },
     "execution_count": 23,
     "metadata": {},
     "output_type": "execute_result"
    },
    {
     "data": {
      "image/png": "[encoded data removed]",
      "text/plain": [
       "<Figure size 2000x500 with 2 Axes>"
      ]
     },
     "metadata": {},
     "output_type": "display_data"
    }
   ],
   "source": [
    "x = torch.randn(1000,10)\n",
    "w = torch.randn(10,200) * 0.2\n",
    "y = x @ w\n",
    "print(x.mean(), x.std())\n",
    "print(y.mean(),y.std())\n",
    "plt.figure(figsize=(20,5))\n",
    "plt.subplot(121)\n",
    "plt.hist(x.view(-1).tolist(), 50, density=True)\n",
    "plt.subplot(122)\n",
    "plt.hist(y.view(-1).tolist(), 50, density=True)"
   ]
  },
  {
   "cell_type": "markdown",
   "id": "f23f8e86",
   "metadata": {},
   "source": [
    "## Note:\n",
    "- Now what do we multiply w with such that standard deviation remains 1? \n",
    "- The correct answer is to divide w by the square root of fan in (number of input elements). "
   ]
  },
  {
   "cell_type": "code",
   "execution_count": 24,
   "id": "e567ca3c",
   "metadata": {},
   "outputs": [
    {
     "name": "stdout",
     "output_type": "stream",
     "text": [
      "tensor(0.0009) tensor(0.9891)\n",
      "tensor(-0.0019) tensor(0.9891)\n"
     ]
    },
    {
     "data": {
      "text/plain": [
       "(array([4.71489540e-05, 7.07234311e-05, 0.00000000e+00, 2.12170293e-04,\n",
       "        1.41446862e-04, 4.24340586e-04, 5.18638494e-04, 9.42979081e-04,\n",
       "        1.74451130e-03, 2.19242636e-03, 3.91336319e-03, 6.29438536e-03,\n",
       "        8.91115231e-03, 1.42625586e-02, 2.25607745e-02, 3.20141398e-02,\n",
       "        4.90584867e-02, 7.15721122e-02, 1.00073655e-01, 1.38900819e-01,\n",
       "        1.88077178e-01, 2.36286983e-01, 2.99018667e-01, 3.57954859e-01,\n",
       "        4.17527563e-01, 4.38980337e-01, 4.40182635e-01, 4.09394368e-01,\n",
       "        3.51801921e-01, 2.90036791e-01, 2.35815494e-01, 1.75606279e-01,\n",
       "        1.29023113e-01, 9.39207165e-02, 6.35567900e-02, 4.64888687e-02,\n",
       "        3.15897992e-02, 2.09812845e-02, 1.30366858e-02, 8.03889666e-03,\n",
       "        5.37498076e-03, 3.15897992e-03, 2.07455398e-03, 1.27302176e-03,\n",
       "        7.30808788e-04, 4.00766109e-04, 3.30042678e-04, 1.41446862e-04,\n",
       "        1.41446862e-04, 9.42979081e-05]),\n",
       " array([-5.49689388, -5.2848001 , -5.07270632, -4.86061254, -4.64851875,\n",
       "        -4.43642497, -4.22433119, -4.01223741, -3.80014362, -3.58804984,\n",
       "        -3.37595606, -3.16386228, -2.95176849, -2.73967471, -2.52758093,\n",
       "        -2.31548715, -2.10339336, -1.89129958, -1.6792058 , -1.46711202,\n",
       "        -1.25501823, -1.04292445, -0.83083067, -0.61873689, -0.4066431 ,\n",
       "        -0.19454932,  0.01754446,  0.22963824,  0.44173203,  0.65382581,\n",
       "         0.86591959,  1.07801337,  1.29010715,  1.50220094,  1.71429472,\n",
       "         1.9263885 ,  2.13848228,  2.35057607,  2.56266985,  2.77476363,\n",
       "         2.98685741,  3.1989512 ,  3.41104498,  3.62313876,  3.83523254,\n",
       "         4.04732633,  4.25942011,  4.47151389,  4.68360767,  4.89570146,\n",
       "         5.10779524]),\n",
       " <BarContainer object of 50 artists>)"
      ]
     },
     "execution_count": 24,
     "metadata": {},
     "output_type": "execute_result"
    },
    {
     "data": {
      "image/png": "[encoded data removed]",
      "text/plain": [
       "<Figure size 2000x500 with 2 Axes>"
      ]
     },
     "metadata": {},
     "output_type": "display_data"
    }
   ],
   "source": [
    "x = torch.randn(1000,10)\n",
    "w = torch.randn(10,200) / 10**0.5\n",
    "y = x @ w\n",
    "print(x.mean(), x.std())\n",
    "print(y.mean(),y.std())\n",
    "plt.figure(figsize=(20,5))\n",
    "plt.subplot(121)\n",
    "plt.hist(x.view(-1).tolist(), 50, density=True)\n",
    "plt.subplot(122)\n",
    "plt.hist(y.view(-1).tolist(), 50, density=True)"
   ]
  },
  {
   "cell_type": "markdown",
   "id": "e2d94ea2",
   "metadata": {},
   "source": [
    "## Note:\n",
    "- You should Kaiming initialization (there is a paper). It is also implemented in Pytorch.\n",
    "- This is the most common way of initializing the neuran networks now. Zero mean and unit standard deviation. \n",
    "- About the time this Kaiming paper came out, you had to be really careful the activations and the gradients, the gains, the nonlinearity. Everything was very fragile and finicky if the neural net was very deep. But there are many modern, that made everything very stable and well behaved and it has become less important to intialize these networks exactly right. These modern developments are residual connections, the use of various normalization layers like batch normalization, layer normalization, also much better optimizers like RMS Prop, ADAM. \n",
    "- Using Kaiming initialization in our example\n",
    "- Kaiming normalization can be used for both activations and gradients. However, the paper shows that it doesnt affect the results too much by applying it to the gradients so by default it is applied to the activations. \n"
   ]
  },
  {
   "cell_type": "code",
   "execution_count": 25,
   "id": "ebec61b8",
   "metadata": {},
   "outputs": [
    {
     "name": "stdout",
     "output_type": "stream",
     "text": [
      "Total parameters: 11897\n"
     ]
    }
   ],
   "source": [
    "# Fixing the issue with tanh\n",
    "n_embd = 10 # Dimensionality of the character embedding vectors \n",
    "n_hidden = 200 # The number of neurons in the hidden layer \n",
    "\n",
    "\n",
    "g = torch.Generator().manual_seed(2147483647)\n",
    "C = torch.randn((vocab_size,n_embd), generator=g)\n",
    "W1 = torch.randn((n_embd * block_size,n_hidden), generator=g) * (5/3)/((n_embd * block_size)**0.5)\n",
    "b1 = torch.randn(n_hidden, generator=g) * 0.01\n",
    "W2 = torch.randn((n_hidden,vocab_size), generator=g) * 0.01\n",
    "b2 = torch.randn(vocab_size, generator=g) * 0\n",
    "parameters = [C, W1, b1, W2, b2]\n",
    "\n",
    "print(\"Total parameters:\", sum(p.nelement() for p in parameters)) # Number of parameters in total\n",
    "for p in parameters:\n",
    "    p.requires_grad = True"
   ]
  },
  {
   "cell_type": "code",
   "execution_count": 26,
   "id": "2305c3a5",
   "metadata": {},
   "outputs": [
    {
     "name": "stdout",
     "output_type": "stream",
     "text": [
      "      0/ 200000:3.3179\n",
      "  10000/ 200000:2.1910\n",
      "  20000/ 200000:2.3270\n",
      "  30000/ 200000:2.5396\n",
      "  40000/ 200000:1.9468\n",
      "  50000/ 200000:2.3331\n",
      "  60000/ 200000:2.3852\n",
      "  70000/ 200000:2.1173\n",
      "  80000/ 200000:2.3159\n",
      "  90000/ 200000:2.2010\n",
      " 100000/ 200000:1.8591\n",
      " 110000/ 200000:2.3167\n",
      " 120000/ 200000:1.9626\n",
      " 130000/ 200000:2.2936\n",
      " 140000/ 200000:2.1852\n",
      " 150000/ 200000:2.2831\n",
      " 160000/ 200000:1.7577\n",
      " 170000/ 200000:1.7677\n",
      " 180000/ 200000:2.1656\n",
      " 190000/ 200000:1.9137\n"
     ]
    }
   ],
   "source": [
    "max_steps = 200000\n",
    "batch_size = 32\n",
    "lossi = []\n",
    "\n",
    "for i in range(max_steps):\n",
    "    # Creating a mini batch \n",
    "    ix = torch.randint(0, Xtr.shape[0], (batch_size, ), generator=g)\n",
    "    # Forward pass\n",
    "    emb = C[Xtr[ix]] # (32,3,2) # Embed the characters into vectors\n",
    "    embcat = emb.view(emb.shape[0], -1) # Concatenate the vectors\n",
    "    hpreact = embcat @ W1 + b1\n",
    "    h = torch.tanh(hpreact)\n",
    "    logits = h @ W2 + b2\n",
    "    loss = F.cross_entropy(logits, Ytr[ix])\n",
    "    # Backward pass\n",
    "    for p in parameters:\n",
    "        p.grad = None\n",
    "    loss.backward()\n",
    "    #Update\n",
    "    lr = 0.1 if i < 100000 else 0.01\n",
    "    for p in parameters:\n",
    "        p.data += -0.1 * p.grad\n",
    "    # Track status\n",
    "    if i % 10000 == 0: # Print every once in a while\n",
    "        print(f'{i:7d}/{max_steps:7d}:{loss.item():.4f}')\n",
    "    lossi.append(loss.log10().item())\n",
    "    "
   ]
  },
  {
   "cell_type": "code",
   "execution_count": 27,
   "id": "31a22c42",
   "metadata": {},
   "outputs": [
    {
     "name": "stdout",
     "output_type": "stream",
     "text": [
      "train 2.1176769733428955\n",
      "val 2.1908650398254395\n"
     ]
    }
   ],
   "source": [
    "split_loss('train')\n",
    "split_loss('val')"
   ]
  },
  {
   "cell_type": "markdown",
   "id": "b90639e1",
   "metadata": {},
   "source": [
    "## Batch Normalization\n",
    "- The idea of batch normalization is to make the hidden states gaussian with zero mean and unit standard deviation at initialization. This operation is completely differentiable. \n",
    "- One point to note is that we want these hiddle state to be gaussian with zero mean and unit standard deviation only at initalization. During the training, we want them to move around as they are adjusted by the gradients. That is done in batch normalization using bngain and bnbias values. The values of bngain and bnbias change during backpropogation. "
   ]
  },
  {
   "cell_type": "code",
   "execution_count": 28,
   "id": "a10a676b",
   "metadata": {},
   "outputs": [
    {
     "name": "stdout",
     "output_type": "stream",
     "text": [
      "Total parameters: 12297\n"
     ]
    }
   ],
   "source": [
    "# Batch Normalization\n",
    "n_embd = 10 # Dimensionality of the character embedding vectors \n",
    "n_hidden = 200 # The number of neurons in the hidden layer \n",
    "\n",
    "\n",
    "g = torch.Generator().manual_seed(2147483647)\n",
    "C = torch.randn((vocab_size,n_embd), generator=g)\n",
    "W1 = torch.randn((n_embd * block_size,n_hidden), generator=g) * (5/3)/((n_embd * block_size)**0.5)\n",
    "b1 = torch.randn(n_hidden, generator=g) * 0.01\n",
    "W2 = torch.randn((n_hidden,vocab_size), generator=g) * 0.01\n",
    "b2 = torch.randn(vocab_size, generator=g) * 0\n",
    "\n",
    "\n",
    "bngain = torch.ones((1, n_hidden))\n",
    "bnbias = torch.zeros((1, n_hidden))\n",
    "\n",
    "bnmean_running = torch.zeros((1, n_hidden))\n",
    "bnstd_running = torch.ones((1, n_hidden))\n",
    "\n",
    "parameters = [C, W1, b1, W2, b2, bngain, bnbias]\n",
    "\n",
    "print(\"Total parameters:\", sum(p.nelement() for p in parameters)) # Number of parameters in total\n",
    "for p in parameters:\n",
    "    p.requires_grad = True"
   ]
  },
  {
   "cell_type": "code",
   "execution_count": 29,
   "id": "6fdcc339",
   "metadata": {},
   "outputs": [
    {
     "name": "stdout",
     "output_type": "stream",
     "text": [
      "      0/ 200000:3.3147\n",
      "  10000/ 200000:2.1984\n",
      "  20000/ 200000:2.3375\n",
      "  30000/ 200000:2.4359\n",
      "  40000/ 200000:2.0119\n",
      "  50000/ 200000:2.2595\n",
      "  60000/ 200000:2.4775\n",
      "  70000/ 200000:2.1020\n",
      "  80000/ 200000:2.2788\n",
      "  90000/ 200000:2.1862\n",
      " 100000/ 200000:1.9474\n",
      " 110000/ 200000:2.3010\n",
      " 120000/ 200000:1.9837\n",
      " 130000/ 200000:2.4523\n",
      " 140000/ 200000:2.3839\n",
      " 150000/ 200000:2.1987\n",
      " 160000/ 200000:1.9733\n",
      " 170000/ 200000:1.8668\n",
      " 180000/ 200000:1.9973\n",
      " 190000/ 200000:1.8347\n"
     ]
    }
   ],
   "source": [
    "max_steps = 200000\n",
    "batch_size = 32\n",
    "lossi = []\n",
    "\n",
    "for i in range(max_steps):\n",
    "    # Creating a mini batch \n",
    "    ix = torch.randint(0, Xtr.shape[0], (batch_size, ), generator=g)\n",
    "    Xb, Yb = Xtr[ix], Ytr[ix]\n",
    "    # Forward pass\n",
    "    emb = C[Xb] # (32,3,2) # Embed the characters into vectors\n",
    "    embcat = emb.view(emb.shape[0], -1) # Concatenate the vectors\n",
    "    hpreact = embcat @ W1 + b1 #b1 Not needed because of batch normalization.\n",
    "    bnmeani = hpreact.mean(0, keepdim=True)\n",
    "    bnstdi = hpreact.std(0, keepdim=True)\n",
    "    hpreact = bngain * (hpreact - bnmeani) / bnstdi + bnbias\n",
    "    \n",
    "    with torch.no_grad():\n",
    "        bnmean_running = 0.999 * bnmean_running + 0.001 * bnmeani\n",
    "        bnstd_running = 0.999 * bnstd_running + 0.001 * bnstdi\n",
    "    h = torch.tanh(hpreact)\n",
    "    logits = h @ W2 + b2\n",
    "    loss = F.cross_entropy(logits, Yb)\n",
    "    # Backward pass\n",
    "    for p in parameters:\n",
    "        p.grad = None\n",
    "    loss.backward()\n",
    "    #Update\n",
    "    lr = 0.1 if i < 100000 else 0.01\n",
    "    for p in parameters:\n",
    "        p.data += -lr * p.grad\n",
    "    # Track status\n",
    "    if i % 10000 == 0: # Print every once in a while\n",
    "        print(f'{i:7d}/{max_steps:7d}:{loss.item():.4f}')\n",
    "    lossi.append(loss.log10().item())\n",
    "    \n",
    "    "
   ]
  },
  {
   "cell_type": "markdown",
   "id": "24724f81",
   "metadata": {},
   "source": [
    "### Note:\n",
    "- We also need to do batch normalization during the test time. "
   ]
  },
  {
   "cell_type": "markdown",
   "id": "b4288d21",
   "metadata": {},
   "source": [
    "### Note:\n",
    "- Batch normalization is easy to implement in very deep neural nets compared to the previous approach. Its easy to sprinkle batch normalization layers through out the neural network.\n",
    "- The effectiveness of Batchnormalization is difficult to observe in this example as the network is very small. \n",
    "- Batch normalization provides great stability to training process. \n",
    "- But stability comes at a cost, as we are doing batch normalization and finding meaning and standard deviation of the batch of the examples in a hidden state of a single example we are kind of mathematically coupling these batch of examples. So the hidden states or the logits are not only the function of a single example but a function of the batch of the examples. This seems to be a bug but it turns out to be good in training as side effect. It acts like a regularizer. It is adding entropy in a particular example and making harder for neural nets to overfit. \n",
    "- This coupling also affects the inference stage. As we are using batch normalized h values are coupled with all the examples in the batches. To solve this issue, we will have a step after training, that calculates the batchnorm mean and standard deviation a single time over the training set. And we use those values to calculate h. Refer the following cells. "
   ]
  },
  {
   "cell_type": "code",
   "execution_count": 30,
   "id": "13710dfc",
   "metadata": {},
   "outputs": [],
   "source": [
    "# Calibrate the batch norm at the end of training \n",
    "\n",
    "with torch.no_grad():\n",
    "    # Pass the training set through \n",
    "    emb = C[Xtr]\n",
    "    embcat = emb.view(emb.shape[0], -1)\n",
    "    hpreact = embcat @ W1 + b1\n",
    "    bnmean = hpreact.mean(0, keepdim=True)\n",
    "    bnstd = hpreact.std(0, keepdim=True)"
   ]
  },
  {
   "cell_type": "code",
   "execution_count": 31,
   "id": "7d5ea0dd",
   "metadata": {},
   "outputs": [
    {
     "name": "stdout",
     "output_type": "stream",
     "text": [
      "train 2.0668270587921143\n",
      "val 2.104926586151123\n"
     ]
    }
   ],
   "source": [
    "@torch.no_grad() # This decorator disables gradient tracking it almost like all the tensors created in the function has requires_grad = falls. \n",
    "def split_loss(split):\n",
    "    x,y = {\n",
    "        'train': (Xtr, Ytr),\n",
    "        'val': {Xdev, Ydev},\n",
    "        'test': {Xte, Yte},\n",
    "    }[split]\n",
    "    emb = C[x]\n",
    "    embcat = emb.view(emb.shape[0], -1) # Concatenate the vectors\n",
    "    hpreact = embcat @ W1 + b1\n",
    "    hpreact = bngain * (hpreact - bnmean) / bnstd + bnbias\n",
    "    h = torch.tanh(hpreact)\n",
    "    logits = h @ W2 + b2\n",
    "    loss = F.cross_entropy(logits, y)\n",
    "    print(split, loss.item())\n",
    "    \n",
    "split_loss('train')\n",
    "split_loss('val')"
   ]
  },
  {
   "cell_type": "markdown",
   "id": "a7313fa7",
   "metadata": {},
   "source": [
    "### Note:\n",
    "- The same mean and standard deviations can be calculated in running manner. \n"
   ]
  },
  {
   "cell_type": "code",
   "execution_count": 32,
   "id": "cf2d00cf",
   "metadata": {},
   "outputs": [
    {
     "name": "stdout",
     "output_type": "stream",
     "text": [
      "train 2.066591501235962\n",
      "val 2.1050572395324707\n"
     ]
    }
   ],
   "source": [
    "@torch.no_grad() # This decorator disables gradient tracking it almost like all the tensors created in the function has requires_grad = falls. \n",
    "def split_loss(split):\n",
    "    x,y = {\n",
    "        'train': (Xtr, Ytr),\n",
    "        'val': {Xdev, Ydev},\n",
    "        'test': {Xte, Yte},\n",
    "    }[split]\n",
    "    emb = C[x]\n",
    "    embcat = emb.view(emb.shape[0], -1) # Concatenate the vectors\n",
    "    hpreact = embcat @ W1 + b1\n",
    "    hpreact = bngain * (hpreact - bnmean_running) / bnstd_running + bnbias\n",
    "    h = torch.tanh(hpreact)\n",
    "    logits = h @ W2 + b2\n",
    "    loss = F.cross_entropy(logits, y)\n",
    "    print(split, loss.item())\n",
    "    \n",
    "split_loss('train')\n",
    "split_loss('val')"
   ]
  },
  {
   "cell_type": "markdown",
   "id": "023b287c",
   "metadata": {},
   "source": [
    "## Note:\n",
    "- When we are using batch normalization then the bias term becomes useless as we are calulating mean and then subtracting it. If you check b1.grad that would be zero.\n",
    "\n",
    "## Additional notes on batch normalization\n",
    "- Batch normalization can be sprinkled across the neural network but generally we add it after the layers that have multiplications like linear layer or convolutional layers. "
   ]
  },
  {
   "cell_type": "code",
   "execution_count": null,
   "id": "986ad344",
   "metadata": {},
   "outputs": [],
   "source": []
  },
  {
   "cell_type": "code",
   "execution_count": null,
   "id": "2fb767ef",
   "metadata": {},
   "outputs": [],
   "source": []
  }
 ],
 "metadata": {
  "kernelspec": {
   "display_name": "Python 3 (ipykernel)",
   "language": "python",
   "name": "python3"
  },
  "language_info": {
   "codemirror_mode": {
    "name": "ipython",
    "version": 3
   },
   "file_extension": ".py",
   "mimetype": "text/x-python",
   "name": "python",
   "nbconvert_exporter": "python",
   "pygments_lexer": "ipython3",
   "version": "3.11.5"
  }
 },
 "nbformat": 4,
 "nbformat_minor": 5
}
