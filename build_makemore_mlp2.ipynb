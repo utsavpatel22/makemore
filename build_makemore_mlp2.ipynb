{
 "cells": [
  {
   "cell_type": "markdown",
   "id": "74011403",
   "metadata": {},
   "source": [
    "# Makemore part: 3"
   ]
  },
  {
   "cell_type": "code",
   "execution_count": 1,
   "id": "c2065d84",
   "metadata": {},
   "outputs": [],
   "source": [
    "import torch\n",
    "import torch.nn.functional as F\n",
    "import matplotlib.pyplot as plt\n",
    "%matplotlib inline"
   ]
  },
  {
   "cell_type": "code",
   "execution_count": 2,
   "id": "dfacf77e",
   "metadata": {},
   "outputs": [
    {
     "data": {
      "text/plain": [
       "['emma', 'olivia', 'ava', 'isabella', 'sophia', 'charlotte', 'mia', 'amelia']"
      ]
     },
     "execution_count": 2,
     "metadata": {},
     "output_type": "execute_result"
    }
   ],
   "source": [
    "# Read all the words \n",
    "words = open('names.txt', 'r').read().splitlines()\n",
    "words[:8]"
   ]
  },
  {
   "cell_type": "code",
   "execution_count": 7,
   "id": "7ffc86d5",
   "metadata": {},
   "outputs": [
    {
     "data": {
      "text/plain": [
       "32033"
      ]
     },
     "execution_count": 7,
     "metadata": {},
     "output_type": "execute_result"
    }
   ],
   "source": [
    "len(words)"
   ]
  },
  {
   "cell_type": "code",
   "execution_count": 8,
   "id": "a2dd5e46",
   "metadata": {},
   "outputs": [
    {
     "name": "stdout",
     "output_type": "stream",
     "text": [
      "{1: 'a', 2: 'b', 3: 'c', 4: 'd', 5: 'e', 6: 'f', 7: 'g', 8: 'h', 9: 'i', 10: 'j', 11: 'k', 12: 'l', 13: 'm', 14: 'n', 15: 'o', 16: 'p', 17: 'q', 18: 'r', 19: 's', 20: 't', 21: 'u', 22: 'v', 23: 'w', 24: 'x', 25: 'y', 26: 'z', 0: '.'}\n"
     ]
    }
   ],
   "source": [
    "# Build the volcabulary of the characters and mapping to/from integers \n",
    "chars = sorted(list(set(''.join(words))))\n",
    "stoi = {s:i+1 for i,s in enumerate(chars)}\n",
    "stoi['.'] = 0\n",
    "itos = {i:s for s,i in stoi.items()}\n",
    "print(itos)\n",
    "vocab_size = len(itos)\n"
   ]
  },
  {
   "cell_type": "code",
   "execution_count": 9,
   "id": "718efe3b",
   "metadata": {},
   "outputs": [
    {
     "name": "stdout",
     "output_type": "stream",
     "text": [
      "torch.Size([182580, 3]) torch.Size([182580])\n",
      "torch.Size([22767, 3]) torch.Size([22767])\n",
      "torch.Size([22799, 3]) torch.Size([22799])\n"
     ]
    }
   ],
   "source": [
    "# Build the dataset\n",
    "# Training split, dev/validation split, test split \n",
    "# 80%, 10%, 10%\n",
    "# Training set: Used to optimize the parameters of the model\n",
    "# Dev/ validation set: Used to development of all the hyperparameters of the model like size of the hidden layer, size of the embedding etc.\n",
    "# test set: evaluate the performance of the model. You should test on test set few times otherwise you might end up overfitting to test set as well. \n",
    "block_size = 3 # context length: how many characters do we take to predict the next one?\n",
    "def build_dataset(words):\n",
    "    \n",
    "    X, Y = [], []\n",
    "\n",
    "    for w in words:\n",
    "    #     print(w)\n",
    "        context = [0] * block_size\n",
    "        for ch in w + '.':\n",
    "            ix = stoi[ch]\n",
    "            X.append(context)\n",
    "            Y.append(ix)\n",
    "    #         print(''.join(itos[i] for i in context),'------>',itos[ix])\n",
    "            context = context[1:] + [ix]\n",
    "    X = torch.tensor(X)\n",
    "    Y = torch.tensor(Y)\n",
    "    print(X.shape, Y.shape)\n",
    "    return X, Y\n",
    "\n",
    "import random \n",
    "random.seed(42)\n",
    "random.shuffle(words)\n",
    "n1 = int(0.8*len(words))\n",
    "n2 = int(0.9*len(words))\n",
    "\n",
    "Xtr, Ytr = build_dataset(words[:n1])\n",
    "Xdev, Ydev = build_dataset(words[n1:n2])\n",
    "Xte, Yte = build_dataset(words[n2:])"
   ]
  },
  {
   "cell_type": "code",
   "execution_count": 10,
   "id": "8db62b6d",
   "metadata": {},
   "outputs": [
    {
     "name": "stdout",
     "output_type": "stream",
     "text": [
      "Total parameters: 11897\n"
     ]
    }
   ],
   "source": [
    "# MLP revisited \n",
    "n_embd = 10 # Dimensionality of the character embedding vectors \n",
    "n_hidden = 200 # The number of neurons in the hidden layer \n",
    "\n",
    "\n",
    "g = torch.Generator().manual_seed(2147483647)\n",
    "C = torch.randn((vocab_size,n_embd), generator=g)\n",
    "W1 = torch.randn((n_embd * block_size,n_hidden), generator=g)\n",
    "b1 = torch.randn(n_hidden, generator=g)\n",
    "W2 = torch.randn((n_hidden,vocab_size), generator=g)\n",
    "b2 = torch.randn(vocab_size, generator=g)\n",
    "parameters = [C, W1, b1, W2, b2]\n",
    "\n",
    "print(\"Total parameters:\", sum(p.nelement() for p in parameters)) # Number of parameters in total\n",
    "for p in parameters:\n",
    "    p.requires_grad = True"
   ]
  },
  {
   "cell_type": "code",
   "execution_count": 11,
   "id": "298e3d74",
   "metadata": {},
   "outputs": [
    {
     "name": "stdout",
     "output_type": "stream",
     "text": [
      "      0/ 200000:26.5404\n",
      "  10000/ 200000:2.8081\n",
      "  20000/ 200000:2.5536\n",
      "  30000/ 200000:2.2321\n",
      "  40000/ 200000:2.3702\n",
      "  50000/ 200000:2.6762\n",
      "  60000/ 200000:2.3352\n",
      "  70000/ 200000:2.3170\n",
      "  80000/ 200000:2.1569\n",
      "  90000/ 200000:2.0086\n",
      " 100000/ 200000:2.3446\n",
      " 110000/ 200000:2.6480\n",
      " 120000/ 200000:2.3732\n",
      " 130000/ 200000:2.4724\n",
      " 140000/ 200000:2.3639\n",
      " 150000/ 200000:2.4341\n",
      " 160000/ 200000:2.2881\n",
      " 170000/ 200000:2.3129\n",
      " 180000/ 200000:2.6699\n",
      " 190000/ 200000:2.0227\n"
     ]
    }
   ],
   "source": [
    "max_steps = 200000\n",
    "batch_size = 32\n",
    "lossi = []\n",
    "\n",
    "for i in range(max_steps):\n",
    "    # Creating a mini batch \n",
    "    ix = torch.randint(0, Xtr.shape[0], (batch_size, ), generator=g)\n",
    "    # Forward pass\n",
    "    emb = C[Xtr[ix]] # (32,3,2) # Embed the characters into vectors\n",
    "    embcat = emb.view(emb.shape[0], -1) # Concatenate the vectors\n",
    "    hpreact = embcat @ W1 + b1\n",
    "    h = torch.tanh(hpreact)\n",
    "    logits = h @ W2 + b2\n",
    "    loss = F.cross_entropy(logits, Ytr[ix])\n",
    "    # Backward pass\n",
    "    for p in parameters:\n",
    "        p.grad = None\n",
    "    loss.backward()\n",
    "    #Update\n",
    "    lr = 0.1 if i < 100000 else 0.01\n",
    "    for p in parameters:\n",
    "        p.data += -0.1 * p.grad\n",
    "    # Track status\n",
    "    if i % 10000 == 0: # Print every once in a while\n",
    "        print(f'{i:7d}/{max_steps:7d}:{loss.item():.4f}')\n",
    "    lossi.append(loss.log10().item())\n",
    "    \n"
   ]
  },
  {
   "cell_type": "code",
   "execution_count": 12,
   "id": "058c031e",
   "metadata": {},
   "outputs": [
    {
     "data": {
      "text/plain": [
       "[<matplotlib.lines.Line2D at 0x1481dc0d0>]"
      ]
     },
     "execution_count": 12,
     "metadata": {},
     "output_type": "execute_result"
    },
    {
     "data": {
      "image/png": "[encoded data removed]",
      "text/plain": [
       "<Figure size 640x480 with 1 Axes>"
      ]
     },
     "metadata": {},
     "output_type": "display_data"
    }
   ],
   "source": [
    "plt.plot(lossi)"
   ]
  },
  {
   "cell_type": "code",
   "execution_count": 13,
   "id": "eed23ded",
   "metadata": {},
   "outputs": [
    {
     "name": "stdout",
     "output_type": "stream",
     "text": [
      "train 2.2444818019866943\n",
      "val 2.3008430004119873\n"
     ]
    }
   ],
   "source": [
    "@torch.no_grad() # This decorator disables gradient tracking it almost like all the tensors created in the function has requires_grad = falls. \n",
    "def split_loss(split):\n",
    "    x,y = {\n",
    "        'train': (Xtr, Ytr),\n",
    "        'val': {Xdev, Ydev},\n",
    "        'test': {Xte, Yte},\n",
    "    }[split]\n",
    "    emb = C[x]\n",
    "    embcat = emb.view(emb.shape[0], -1) # Concatenate the vectors\n",
    "    h = torch.tanh(embcat @ W1 + b1)\n",
    "    logits = h @ W2 + b2\n",
    "    loss = F.cross_entropy(logits, y)\n",
    "    print(split, loss.item())\n",
    "    \n",
    "split_loss('train')\n",
    "split_loss('val')"
   ]
  },
  {
   "cell_type": "code",
   "execution_count": 14,
   "id": "1e8c3966",
   "metadata": {},
   "outputs": [
    {
     "name": "stdout",
     "output_type": "stream",
     "text": [
      "carmah.\n",
      "quielleigh.\n",
      "mir.\n",
      "jerty.\n",
      "hucheski.\n",
      "rahnee.\n",
      "den.\n",
      "rhe.\n",
      "kaeli.\n",
      "jermari.\n",
      "chriir.\n",
      "jaleigh.\n",
      "ham.\n",
      "jore.\n",
      "quinton.\n",
      "lilea.\n",
      "jamiliorterrisharisika.\n",
      "jureighayley.\n",
      "emiia.\n",
      "gian.\n"
     ]
    }
   ],
   "source": [
    "# Sample from the model \n",
    "g = torch.Generator().manual_seed(2147483647 + 10)\n",
    "\n",
    "for _ in range(20):\n",
    "    out = []\n",
    "    context = [0] * block_size # Initialize with all ...\n",
    "    while True:\n",
    "        emb = C[torch.tensor([context])]\n",
    "        h = torch.tanh(emb.view(1,-1) @ W1 + b1)\n",
    "        logits = h @ W2 + b2\n",
    "        probs = F.softmax(logits, dim=1)\n",
    "        ix = torch.multinomial(probs, num_samples=1, generator=g).item()\n",
    "        context = context[1:] + [ix]\n",
    "        out.append(ix)\n",
    "        if ix == 0:\n",
    "            break\n",
    "    print(''.join(itos[i] for i in out))\n",
    "        \n",
    "        \n",
    "        "
   ]
  },
  {
   "cell_type": "markdown",
   "id": "56f23ebf",
   "metadata": {},
   "source": [
    "## What is wrong here?\n",
    "- At the initialization of this network, the loss is too high (around 26). It shows the network is poorly configured at the initialization. \n",
    "- With training of neural nets you have a rough idea of what loss to expect at initialization. \n",
    "- For this particular case, we know that at the start all the 27 characters are equally likely to come next for any training example. So we would expect uniform probability distribution in the beginning. So the probability of any character should be 1/27 in our example. In the following cell what loss we should expect at the initialization is calculated. \n"
   ]
  },
  {
   "cell_type": "code",
   "execution_count": 15,
   "id": "a4bdb57b",
   "metadata": {},
   "outputs": [
    {
     "data": {
      "text/plain": [
       "tensor(3.2958)"
      ]
     },
     "execution_count": 15,
     "metadata": {},
     "output_type": "execute_result"
    }
   ],
   "source": [
    "-torch.tensor(1/27.0).log()"
   ]
  },
  {
   "cell_type": "markdown",
   "id": "538b0c89",
   "metadata": {},
   "source": [
    "### Fixing initialization:\n",
    "- With our current initialization, the neural net is creating probability distribution that is all messed up. Some characters are assigned very high probability whereas some are assigned very low probability. So the network is very confidently wrong. Thats what makes it record very high loss. \n",
    "- In the following cells, we are rectifying this issue. The current values of logits are very high. We are trying make them come close to zero.\n",
    "- The first step is to make b2 zero as that is adding in logits calculation. \n",
    "- Second is to scale down w2. "
   ]
  },
  {
   "cell_type": "code",
   "execution_count": 16,
   "id": "8467d906",
   "metadata": {},
   "outputs": [
    {
     "name": "stdout",
     "output_type": "stream",
     "text": [
      "Total parameters: 11897\n"
     ]
    }
   ],
   "source": [
    "n_embd = 10 # Dimensionality of the character embedding vectors \n",
    "n_hidden = 200 # The number of neurons in the hidden layer \n",
    "\n",
    "\n",
    "g = torch.Generator().manual_seed(2147483647)\n",
    "C = torch.randn((vocab_size,n_embd), generator=g)\n",
    "W1 = torch.randn((n_embd * block_size,n_hidden), generator=g)\n",
    "b1 = torch.randn(n_hidden, generator=g)\n",
    "W2 = torch.randn((n_hidden,vocab_size), generator=g) * 0.01\n",
    "b2 = torch.randn(vocab_size, generator=g) * 0\n",
    "parameters = [C, W1, b1, W2, b2]\n",
    "\n",
    "print(\"Total parameters:\", sum(p.nelement() for p in parameters)) # Number of parameters in total\n",
    "for p in parameters:\n",
    "    p.requires_grad = True"
   ]
  },
  {
   "cell_type": "code",
   "execution_count": 18,
   "id": "76965e94",
   "metadata": {},
   "outputs": [
    {
     "name": "stdout",
     "output_type": "stream",
     "text": [
      "      0/ 200000:3.2459\n",
      "  10000/ 200000:2.3544\n",
      "  20000/ 200000:2.0843\n",
      "  30000/ 200000:2.3805\n",
      "  40000/ 200000:2.5993\n",
      "  50000/ 200000:2.1307\n",
      "  60000/ 200000:2.3376\n",
      "  70000/ 200000:1.8359\n",
      "  80000/ 200000:2.1580\n",
      "  90000/ 200000:2.2627\n",
      " 100000/ 200000:2.2407\n",
      " 110000/ 200000:1.9775\n",
      " 120000/ 200000:2.3104\n",
      " 130000/ 200000:2.2975\n",
      " 140000/ 200000:2.2196\n",
      " 150000/ 200000:2.4413\n",
      " 160000/ 200000:2.1828\n",
      " 170000/ 200000:2.3385\n",
      " 180000/ 200000:2.1838\n",
      " 190000/ 200000:1.8202\n"
     ]
    }
   ],
   "source": [
    "max_steps = 200000\n",
    "batch_size = 32\n",
    "lossi = []\n",
    "\n",
    "for i in range(max_steps):\n",
    "    # Creating a mini batch \n",
    "    ix = torch.randint(0, Xtr.shape[0], (batch_size, ), generator=g)\n",
    "    # Forward pass\n",
    "    emb = C[Xtr[ix]] # (32,3,2) # Embed the characters into vectors\n",
    "    embcat = emb.view(emb.shape[0], -1) # Concatenate the vectors\n",
    "    hpreact = embcat @ W1 + b1\n",
    "    h = torch.tanh(hpreact)\n",
    "    logits = h @ W2 + b2\n",
    "    loss = F.cross_entropy(logits, Ytr[ix])\n",
    "    # Backward pass\n",
    "    for p in parameters:\n",
    "        p.grad = None\n",
    "    loss.backward()\n",
    "    #Update\n",
    "    lr = 0.1 if i < 100000 else 0.01\n",
    "    for p in parameters:\n",
    "        p.data += -0.1 * p.grad\n",
    "    # Track status\n",
    "    if i % 10000 == 0: # Print every once in a while\n",
    "        print(f'{i:7d}/{max_steps:7d}:{loss.item():.4f}')\n",
    "    lossi.append(loss.log10().item())\n",
    "    \n",
    "    \n"
   ]
  },
  {
   "cell_type": "markdown",
   "id": "4465508e",
   "metadata": {},
   "source": [
    "#### Note:\n",
    "- We will now not be getting the hockey shape graph. This it true for any neural network we train. "
   ]
  },
  {
   "cell_type": "code",
   "execution_count": 19,
   "id": "bcdf5c08",
   "metadata": {},
   "outputs": [
    {
     "data": {
      "text/plain": [
       "[<matplotlib.lines.Line2D at 0x14885bf10>]"
      ]
     },
     "execution_count": 19,
     "metadata": {},
     "output_type": "execute_result"
    },
    {
     "data": {
      "image/png": "[encoded data removed]",
      "text/plain": [
       "<Figure size 640x480 with 1 Axes>"
      ]
     },
     "metadata": {},
     "output_type": "display_data"
    }
   ],
   "source": [
    "plt.plot(lossi)"
   ]
  },
  {
   "cell_type": "code",
   "execution_count": 22,
   "id": "67c33737",
   "metadata": {},
   "outputs": [
    {
     "name": "stdout",
     "output_type": "stream",
     "text": [
      "train 2.1705994606018066\n",
      "val 2.238483428955078\n"
     ]
    }
   ],
   "source": [
    "@torch.no_grad() # This decorator disables gradient tracking it almost like all the tensors created in the function has requires_grad = falls. \n",
    "def split_loss(split):\n",
    "    x,y = {\n",
    "        'train': (Xtr, Ytr),\n",
    "        'val': {Xdev, Ydev},\n",
    "        'test': {Xte, Yte},\n",
    "    }[split]\n",
    "    emb = C[x]\n",
    "    embcat = emb.view(emb.shape[0], -1) # Concatenate the vectors\n",
    "    h = torch.tanh(embcat @ W1 + b1)\n",
    "    logits = h @ W2 + b2\n",
    "    loss = F.cross_entropy(logits, y)\n",
    "    print(split, loss.item())\n",
    "    \n",
    "split_loss('train')\n",
    "split_loss('val')"
   ]
  },
  {
   "cell_type": "markdown",
   "id": "0adf9aa4",
   "metadata": {},
   "source": [
    "### Note\n",
    "- As we can see, we are getting slightly better results than the previous iteration because we are spending more time actually training the model rather than speding training iterations on squashing the weights initially. "
   ]
  },
  {
   "cell_type": "markdown",
   "id": "412a75c7",
   "metadata": {},
   "source": [
    "### Problem with h:\n",
    "- Now as we resolved the initialization problem, there are still some issues with the value of h. \n",
    "- Many elements of h are 1 or -1. \n",
    "- tanh is a squashing function, meaning it will squash the input values between 1 and -1. \n",
    "- See the histogram below. \n",
    "- This will create a problem during back propogation. If the value is 1 or -1, we are killing the gradient by making it 0 (Check the equation of backward pass for the tanh layer). So we are effectively making the backpropogation through this tanh layer. Intutively as well the value of slope near the end of tanh is almost zero. \n",
    "- To futher assess the problem. We are also plotting the absolute values of h as a figure to show that how many times it is greater than 0.99. White parts shows whenever the condition is true. \n",
    "- In the figure, if any one column is entirely white then that corresponds to a dead neuron out of the 200 neurons. These neurons will never learn as the gradient never passes through them.\n",
    "- This is not just true for tanh but true for a lot of other non-linearities. \n",
    "- This dead neuron can happen during the intialization stage when the weights and biases are such that they are not in the learning range and the neurons are dead.\n",
    "- But this can also happen during the learning stage (optimization stage) as well. When the gradient is so high (maybe due to very high learning rate) that it will knock that neuron out of the data manifold, and from then no example will ever activate the neuron. They will like dead brain cells (permanent brain damage).  \n",
    "- Some non linearities like leaky relu doesnt suffer this issue. "
   ]
  },
  {
   "cell_type": "code",
   "execution_count": 24,
   "id": "e15df13e",
   "metadata": {},
   "outputs": [
    {
     "data": {
      "text/plain": [
       "<matplotlib.image.AxesImage at 0x148df3bd0>"
      ]
     },
     "execution_count": 24,
     "metadata": {},
     "output_type": "execute_result"
    },
    {
     "data": {
      "image/png": "[encoded data removed]",
      "text/plain": [
       "<Figure size 640x480 with 1 Axes>"
      ]
     },
     "metadata": {},
     "output_type": "display_data"
    },
    {
     "data": {
      "image/png": "[encoded data removed]",
      "text/plain": [
       "<Figure size 2000x1000 with 1 Axes>"
      ]
     },
     "metadata": {},
     "output_type": "display_data"
    }
   ],
   "source": [
    "plt.hist(h.view(-1).tolist(), 50)\n",
    "plt.figure(figsize=(20,10))\n",
    "plt.imshow(h.abs() > 0.99, cmap='gray', interpolation='nearest')"
   ]
  },
  {
   "cell_type": "markdown",
   "id": "d342a9f2",
   "metadata": {},
   "source": [
    "### Fixing the issue with tanh\n",
    "- We will use the similar approach that we used to resolve the issue with initialization. \n",
    "- We will scale down the effect of W1 and b1 to get smaller values for hpreact "
   ]
  },
  {
   "cell_type": "code",
   "execution_count": 30,
   "id": "1930ad6c",
   "metadata": {},
   "outputs": [
    {
     "name": "stdout",
     "output_type": "stream",
     "text": [
      "Total parameters: 11897\n"
     ]
    }
   ],
   "source": [
    "# Fixing the issue with tanh\n",
    "n_embd = 10 # Dimensionality of the character embedding vectors \n",
    "n_hidden = 200 # The number of neurons in the hidden layer \n",
    "\n",
    "\n",
    "g = torch.Generator().manual_seed(2147483647)\n",
    "C = torch.randn((vocab_size,n_embd), generator=g)\n",
    "W1 = torch.randn((n_embd * block_size,n_hidden), generator=g) * 0.2\n",
    "b1 = torch.randn(n_hidden, generator=g) * 0.01\n",
    "W2 = torch.randn((n_hidden,vocab_size), generator=g) * 0.01\n",
    "b2 = torch.randn(vocab_size, generator=g) * 0\n",
    "parameters = [C, W1, b1, W2, b2]\n",
    "\n",
    "print(\"Total parameters:\", sum(p.nelement() for p in parameters)) # Number of parameters in total\n",
    "for p in parameters:\n",
    "    p.requires_grad = True"
   ]
  },
  {
   "cell_type": "code",
   "execution_count": 31,
   "id": "86541019",
   "metadata": {},
   "outputs": [
    {
     "name": "stdout",
     "output_type": "stream",
     "text": [
      "      0/ 200000:3.3091\n"
     ]
    }
   ],
   "source": [
    "max_steps = 200000\n",
    "batch_size = 32\n",
    "lossi = []\n",
    "\n",
    "for i in range(max_steps):\n",
    "    # Creating a mini batch \n",
    "    ix = torch.randint(0, Xtr.shape[0], (batch_size, ), generator=g)\n",
    "    # Forward pass\n",
    "    emb = C[Xtr[ix]] # (32,3,2) # Embed the characters into vectors\n",
    "    embcat = emb.view(emb.shape[0], -1) # Concatenate the vectors\n",
    "    hpreact = embcat @ W1 + b1\n",
    "    h = torch.tanh(hpreact)\n",
    "    logits = h @ W2 + b2\n",
    "    loss = F.cross_entropy(logits, Ytr[ix])\n",
    "    # Backward pass\n",
    "    for p in parameters:\n",
    "        p.grad = None\n",
    "    loss.backward()\n",
    "    #Update\n",
    "    lr = 0.1 if i < 100000 else 0.01\n",
    "    for p in parameters:\n",
    "        p.data += -0.1 * p.grad\n",
    "    # Track status\n",
    "    if i % 10000 == 0: # Print every once in a while\n",
    "        print(f'{i:7d}/{max_steps:7d}:{loss.item():.4f}')\n",
    "    lossi.append(loss.log10().item())\n",
    "    break\n",
    "    \n"
   ]
  },
  {
   "cell_type": "code",
   "execution_count": 32,
   "id": "43f45b3a",
   "metadata": {},
   "outputs": [
    {
     "data": {
      "text/plain": [
       "<matplotlib.image.AxesImage at 0x148e0bbd0>"
      ]
     },
     "execution_count": 32,
     "metadata": {},
     "output_type": "execute_result"
    },
    {
     "data": {
      "image/png": "[encoded data removed]",
      "text/plain": [
       "<Figure size 640x480 with 1 Axes>"
      ]
     },
     "metadata": {},
     "output_type": "display_data"
    },
    {
     "data": {
      "image/png": "[encoded data removed]",
      "text/plain": [
       "<Figure size 2000x1000 with 1 Axes>"
      ]
     },
     "metadata": {},
     "output_type": "display_data"
    }
   ],
   "source": [
    "plt.hist(h.view(-1).tolist(), 50)\n",
    "plt.figure(figsize=(20,10))\n",
    "plt.imshow(h.abs() > 0.99, cmap='gray', interpolation='nearest')"
   ]
  },
  {
   "cell_type": "markdown",
   "id": "379ce7f4",
   "metadata": {},
   "source": [
    "- This seems to be a nice distribution. \n",
    "- Now training the full model"
   ]
  },
  {
   "cell_type": "code",
   "execution_count": 33,
   "id": "5ee56a6e",
   "metadata": {},
   "outputs": [
    {
     "name": "stdout",
     "output_type": "stream",
     "text": [
      "      0/ 200000:3.2663\n",
      "  10000/ 200000:2.2931\n",
      "  20000/ 200000:2.1187\n",
      "  30000/ 200000:2.3928\n",
      "  40000/ 200000:2.5118\n",
      "  50000/ 200000:2.1796\n",
      "  60000/ 200000:2.1923\n",
      "  70000/ 200000:1.9117\n",
      "  80000/ 200000:2.1906\n",
      "  90000/ 200000:2.1909\n",
      " 100000/ 200000:2.2332\n",
      " 110000/ 200000:1.9322\n",
      " 120000/ 200000:2.2691\n",
      " 130000/ 200000:2.3383\n",
      " 140000/ 200000:2.0510\n",
      " 150000/ 200000:2.3847\n",
      " 160000/ 200000:1.9547\n",
      " 170000/ 200000:2.3453\n",
      " 180000/ 200000:2.3012\n",
      " 190000/ 200000:1.7317\n"
     ]
    }
   ],
   "source": [
    "max_steps = 200000\n",
    "batch_size = 32\n",
    "lossi = []\n",
    "\n",
    "for i in range(max_steps):\n",
    "    # Creating a mini batch \n",
    "    ix = torch.randint(0, Xtr.shape[0], (batch_size, ), generator=g)\n",
    "    # Forward pass\n",
    "    emb = C[Xtr[ix]] # (32,3,2) # Embed the characters into vectors\n",
    "    embcat = emb.view(emb.shape[0], -1) # Concatenate the vectors\n",
    "    hpreact = embcat @ W1 + b1\n",
    "    h = torch.tanh(hpreact)\n",
    "    logits = h @ W2 + b2\n",
    "    loss = F.cross_entropy(logits, Ytr[ix])\n",
    "    # Backward pass\n",
    "    for p in parameters:\n",
    "        p.grad = None\n",
    "    loss.backward()\n",
    "    #Update\n",
    "    lr = 0.1 if i < 100000 else 0.01\n",
    "    for p in parameters:\n",
    "        p.data += -0.1 * p.grad\n",
    "    # Track status\n",
    "    if i % 10000 == 0: # Print every once in a while\n",
    "        print(f'{i:7d}/{max_steps:7d}:{loss.item():.4f}')\n",
    "    lossi.append(loss.log10().item())\n",
    "    \n",
    "    \n"
   ]
  },
  {
   "cell_type": "code",
   "execution_count": 34,
   "id": "a9fe2d80",
   "metadata": {},
   "outputs": [
    {
     "name": "stdout",
     "output_type": "stream",
     "text": [
      "train 2.1032280921936035\n",
      "val 2.1764559745788574\n"
     ]
    }
   ],
   "source": [
    "split_loss('train')\n",
    "split_loss('val')"
   ]
  },
  {
   "cell_type": "markdown",
   "id": "091f6573",
   "metadata": {},
   "source": [
    "### Notes:\n",
    "- The results are better than what we obtain last time by just fixing the initialization. \n",
    "- We have been working with one layer MLP neural network so the optimization problem is easy and quite forgiving. This is not the case in general though. \n",
    "- With deeper networks the things can get complicated.\n",
    "- We need a structured way of intializing and coming up with the multipliers for weights and biases. \n",
    "- Lets do an experiment. Here in the following cell, we are multiplying two gaussians and finding the mean and standard deviation of the resulting gaussian. "
   ]
  },
  {
   "cell_type": "code",
   "execution_count": 35,
   "id": "a289e0e9",
   "metadata": {},
   "outputs": [
    {
     "name": "stdout",
     "output_type": "stream",
     "text": [
      "tensor(-0.0044) tensor(1.0009)\n",
      "tensor(-0.0003) tensor(3.1903)\n"
     ]
    },
    {
     "data": {
      "text/plain": [
       "(array([1.37633036e-05, 0.00000000e+00, 0.00000000e+00, 2.06449553e-05,\n",
       "        2.06449553e-05, 8.25798214e-05, 1.23869732e-04, 1.99567902e-04,\n",
       "        5.09242232e-04, 8.46443169e-04, 1.21117071e-03, 2.27094509e-03,\n",
       "        3.44770754e-03, 5.74617924e-03, 8.91173906e-03, 1.35637357e-02,\n",
       "        2.01013049e-02, 2.91644402e-02, 4.08426033e-02, 5.59684739e-02,\n",
       "        7.33102364e-02, 9.45607771e-02, 1.13051775e-01, 1.29375053e-01,\n",
       "        1.38864851e-01, 1.34281671e-01, 1.20188048e-01, 1.01022648e-01,\n",
       "        8.09351066e-02, 6.19968009e-02, 4.65612560e-02, 3.25639762e-02,\n",
       "        2.31154683e-02, 1.55938229e-02, 1.03844125e-02, 6.68208388e-03,\n",
       "        4.28726906e-03, 2.60126437e-03, 1.61030652e-03, 8.05153258e-04,\n",
       "        5.64295446e-04, 4.33544062e-04, 2.33976161e-04, 1.16988080e-04,\n",
       "        5.50532142e-05, 2.06449553e-05, 2.06449553e-05, 2.06449553e-05,\n",
       "        2.06449553e-05, 6.88165178e-06]),\n",
       " array([-17.93566132, -17.20909157, -16.48252182, -15.75595207,\n",
       "        -15.02938232, -14.30281258, -13.57624283, -12.84967308,\n",
       "        -12.12310333, -11.39653358, -10.66996384,  -9.94339409,\n",
       "         -9.21682434,  -8.49025459,  -7.76368484,  -7.0371151 ,\n",
       "         -6.31054535,  -5.5839756 ,  -4.85740585,  -4.13083611,\n",
       "         -3.40426636,  -2.67769661,  -1.95112686,  -1.22455711,\n",
       "         -0.49798737,   0.22858238,   0.95515213,   1.68172188,\n",
       "          2.40829163,   3.13486137,   3.86143112,   4.58800087,\n",
       "          5.31457062,   6.04114037,   6.76771011,   7.49427986,\n",
       "          8.22084961,   8.94741936,   9.67398911,  10.40055885,\n",
       "         11.1271286 ,  11.85369835,  12.5802681 ,  13.30683784,\n",
       "         14.03340759,  14.75997734,  15.48654709,  16.21311684,\n",
       "         16.93968658,  17.66625633,  18.39282608]),\n",
       " <BarContainer object of 50 artists>)"
      ]
     },
     "execution_count": 35,
     "metadata": {},
     "output_type": "execute_result"
    },
    {
     "data": {
      "image/png": "[encoded data removed]",
      "text/plain": [
       "<Figure size 2000x500 with 2 Axes>"
      ]
     },
     "metadata": {},
     "output_type": "display_data"
    }
   ],
   "source": [
    "x = torch.randn(1000,10)\n",
    "w = torch.randn(10,200)\n",
    "y = x @ w\n",
    "print(x.mean(), x.std())\n",
    "print(y.mean(),y.std())\n",
    "plt.figure(figsize=(20,5))\n",
    "plt.subplot(121)\n",
    "plt.hist(x.view(-1).tolist(), 50, density=True)\n",
    "plt.subplot(122)\n",
    "plt.hist(y.view(-1).tolist(), 50, density=True)"
   ]
  },
  {
   "cell_type": "markdown",
   "id": "479e10fa",
   "metadata": {},
   "source": [
    "### Note:\n",
    "- We can see that the standard deviation increases after multiplication. \n",
    "- Lets multiply w by a small number and check the resulting standard deviation."
   ]
  },
  {
   "cell_type": "code",
   "execution_count": 36,
   "id": "ee016750",
   "metadata": {},
   "outputs": [
    {
     "name": "stdout",
     "output_type": "stream",
     "text": [
      "tensor(-0.0054) tensor(0.9998)\n",
      "tensor(-0.0001) tensor(0.6410)\n"
     ]
    },
    {
     "data": {
      "text/plain": [
       "(array([1.05693171e-04, 1.76155286e-04, 1.05693171e-04, 2.11386343e-04,\n",
       "        3.87541629e-04, 6.69390086e-04, 9.86469600e-04, 1.65585969e-03,\n",
       "        3.38218149e-03, 4.89711694e-03, 8.80776429e-03, 1.49731993e-02,\n",
       "        2.29001871e-02, 3.41741254e-02, 5.58059945e-02, 8.38146850e-02,\n",
       "        1.21124374e-01, 1.77106524e-01, 2.48378953e-01, 3.26169127e-01,\n",
       "        4.14211539e-01, 5.14549590e-01, 5.87548340e-01, 6.46419437e-01,\n",
       "        6.65021435e-01, 6.40782468e-01, 5.77789337e-01, 4.88513838e-01,\n",
       "        3.97054014e-01, 3.05382803e-01, 2.23717213e-01, 1.58293140e-01,\n",
       "        1.12668921e-01, 7.33510610e-02, 4.92177868e-02, 3.15670272e-02,\n",
       "        2.19489486e-02, 1.30354911e-02, 7.36329095e-03, 4.89711694e-03,\n",
       "        2.92417774e-03, 1.69109074e-03, 1.05693171e-03, 6.34159029e-04,\n",
       "        3.52310572e-04, 2.46617400e-04, 3.52310572e-05, 7.04621143e-05,\n",
       "        0.00000000e+00, 3.52310572e-05]),\n",
       " array([-3.45943332, -3.31751308, -3.17559284, -3.0336726 , -2.89175237,\n",
       "        -2.74983213, -2.60791189, -2.46599165, -2.32407142, -2.18215118,\n",
       "        -2.04023094, -1.8983107 , -1.75639047, -1.61447023, -1.47254999,\n",
       "        -1.33062975, -1.18870952, -1.04678928, -0.90486904, -0.7629488 ,\n",
       "        -0.62102857, -0.47910833, -0.33718809, -0.19526785, -0.05334762,\n",
       "         0.08857262,  0.23049286,  0.3724131 ,  0.51433333,  0.65625357,\n",
       "         0.79817381,  0.94009405,  1.08201428,  1.22393452,  1.36585476,\n",
       "         1.507775  ,  1.64969523,  1.79161547,  1.93353571,  2.07545595,\n",
       "         2.21737618,  2.35929642,  2.50121666,  2.6431369 ,  2.78505713,\n",
       "         2.92697737,  3.06889761,  3.21081785,  3.35273808,  3.49465832,\n",
       "         3.63657856]),\n",
       " <BarContainer object of 50 artists>)"
      ]
     },
     "execution_count": 36,
     "metadata": {},
     "output_type": "execute_result"
    },
    {
     "data": {
      "image/png": "[encoded data removed]",
      "text/plain": [
       "<Figure size 2000x500 with 2 Axes>"
      ]
     },
     "metadata": {},
     "output_type": "display_data"
    }
   ],
   "source": [
    "x = torch.randn(1000,10)\n",
    "w = torch.randn(10,200) * 0.2\n",
    "y = x @ w\n",
    "print(x.mean(), x.std())\n",
    "print(y.mean(),y.std())\n",
    "plt.figure(figsize=(20,5))\n",
    "plt.subplot(121)\n",
    "plt.hist(x.view(-1).tolist(), 50, density=True)\n",
    "plt.subplot(122)\n",
    "plt.hist(y.view(-1).tolist(), 50, density=True)"
   ]
  },
  {
   "cell_type": "markdown",
   "id": "f23f8e86",
   "metadata": {},
   "source": [
    "## Note:\n",
    "- Now what do we multiply w with such that standard deviation remains 1? \n",
    "- The correct answer is to divide w by the square root of fan in (number of input elements). "
   ]
  },
  {
   "cell_type": "code",
   "execution_count": 38,
   "id": "e567ca3c",
   "metadata": {},
   "outputs": [
    {
     "name": "stdout",
     "output_type": "stream",
     "text": [
      "tensor(0.0133) tensor(0.9994)\n",
      "tensor(-0.0021) tensor(0.9900)\n"
     ]
    },
    {
     "data": {
      "text/plain": [
       "(array([6.53221380e-05, 0.00000000e+00, 2.17740460e-05, 6.53221380e-05,\n",
       "        1.95966414e-04, 4.13706874e-04, 2.83062598e-04, 6.53221380e-04,\n",
       "        1.19757253e-03, 2.17740460e-03, 3.57094355e-03, 6.57576190e-03,\n",
       "        8.42655581e-03, 1.47845772e-02, 2.31240369e-02, 3.59054019e-02,\n",
       "        5.53060769e-02, 8.30679855e-02, 1.12593592e-01, 1.64241629e-01,\n",
       "        2.20658182e-01, 2.85305325e-01, 3.54285503e-01, 4.08611747e-01,\n",
       "        4.39443797e-01, 4.35502694e-01, 3.97615854e-01, 3.40415435e-01,\n",
       "        2.75267490e-01, 2.08900197e-01, 1.53223962e-01, 1.10220221e-01,\n",
       "        7.40753045e-02, 4.94706325e-02, 3.37497713e-02, 1.97926078e-02,\n",
       "        1.36523269e-02, 8.18704130e-03, 5.22577104e-03, 3.04836644e-03,\n",
       "        2.37337102e-03, 1.28466871e-03, 6.53221380e-04, 4.35480920e-04,\n",
       "        2.61288552e-04, 3.04836644e-04, 6.53221380e-05, 2.17740460e-05,\n",
       "        4.35480920e-05, 4.35480920e-05]),\n",
       " array([-5.7203207 , -5.49068952, -5.26105833, -5.03142715, -4.80179596,\n",
       "        -4.57216477, -4.34253359, -4.1129024 , -3.88327122, -3.65364003,\n",
       "        -3.42400885, -3.19437766, -2.96474648, -2.73511529, -2.5054841 ,\n",
       "        -2.27585292, -2.04622173, -1.81659055, -1.58695936, -1.35732818,\n",
       "        -1.12769699, -0.89806581, -0.66843462, -0.43880343, -0.20917225,\n",
       "         0.02045894,  0.25009012,  0.47972131,  0.70935249,  0.93898368,\n",
       "         1.16861486,  1.39824605,  1.62787724,  1.85750842,  2.08713961,\n",
       "         2.31677079,  2.54640198,  2.77603316,  3.00566435,  3.23529553,\n",
       "         3.46492672,  3.69455791,  3.92418909,  4.15382028,  4.38345146,\n",
       "         4.61308265,  4.84271383,  5.07234502,  5.3019762 ,  5.53160739,\n",
       "         5.76123857]),\n",
       " <BarContainer object of 50 artists>)"
      ]
     },
     "execution_count": 38,
     "metadata": {},
     "output_type": "execute_result"
    },
    {
     "data": {
      "image/png": "[encoded data removed]",
      "text/plain": [
       "<Figure size 2000x500 with 2 Axes>"
      ]
     },
     "metadata": {},
     "output_type": "display_data"
    }
   ],
   "source": [
    "x = torch.randn(1000,10)\n",
    "w = torch.randn(10,200) / 10**0.5\n",
    "y = x @ w\n",
    "print(x.mean(), x.std())\n",
    "print(y.mean(),y.std())\n",
    "plt.figure(figsize=(20,5))\n",
    "plt.subplot(121)\n",
    "plt.hist(x.view(-1).tolist(), 50, density=True)\n",
    "plt.subplot(122)\n",
    "plt.hist(y.view(-1).tolist(), 50, density=True)"
   ]
  },
  {
   "cell_type": "markdown",
   "id": "e2d94ea2",
   "metadata": {},
   "source": [
    "## Note:\n",
    "- You should Kaiming initialization (there is a paper). It is also implemented in Pytorch.\n",
    "- This is the most common way of initializing the neuran networks now. Zero mean and unit standard deviation. \n",
    "- About the time this Kaiming paper came out, you had to be really careful the activations and the gradients, the gains, the nonlinearity. Everything was very fragile and finicky if the neural net was very deep. But there are many modern, that made everything very stable and well behaved and it has become less important to intialize these networks exactly right. These modern developments are residual connections, the use of various normalization layers like batch normalization, layer normalization, also much better optimizers like RMS Prop, ADAM. \n",
    "- Using Kaiming initialization in our example\n",
    "- Kaiming normalization can be used for both activations and gradients. However, the paper shows that it doesnt affect the results too much by applying it to the gradients so by default it is applied to the activations. \n"
   ]
  },
  {
   "cell_type": "code",
   "execution_count": 40,
   "id": "ebec61b8",
   "metadata": {},
   "outputs": [
    {
     "name": "stdout",
     "output_type": "stream",
     "text": [
      "Total parameters: 11897\n"
     ]
    }
   ],
   "source": [
    "# Fixing the issue with tanh\n",
    "n_embd = 10 # Dimensionality of the character embedding vectors \n",
    "n_hidden = 200 # The number of neurons in the hidden layer \n",
    "\n",
    "\n",
    "g = torch.Generator().manual_seed(2147483647)\n",
    "C = torch.randn((vocab_size,n_embd), generator=g)\n",
    "W1 = torch.randn((n_embd * block_size,n_hidden), generator=g) * (5/3)/((n_embd * block_size)**0.5)\n",
    "b1 = torch.randn(n_hidden, generator=g) * 0.01\n",
    "W2 = torch.randn((n_hidden,vocab_size), generator=g) * 0.01\n",
    "b2 = torch.randn(vocab_size, generator=g) * 0\n",
    "parameters = [C, W1, b1, W2, b2]\n",
    "\n",
    "print(\"Total parameters:\", sum(p.nelement() for p in parameters)) # Number of parameters in total\n",
    "for p in parameters:\n",
    "    p.requires_grad = True"
   ]
  },
  {
   "cell_type": "code",
   "execution_count": 41,
   "id": "2305c3a5",
   "metadata": {},
   "outputs": [
    {
     "name": "stdout",
     "output_type": "stream",
     "text": [
      "      0/ 200000:3.3129\n",
      "  10000/ 200000:2.4228\n",
      "  20000/ 200000:2.3509\n",
      "  30000/ 200000:2.0158\n",
      "  40000/ 200000:2.0766\n",
      "  50000/ 200000:2.3837\n",
      "  60000/ 200000:2.2648\n",
      "  70000/ 200000:2.0855\n",
      "  80000/ 200000:1.9400\n",
      "  90000/ 200000:2.0193\n",
      " 100000/ 200000:2.4169\n",
      " 110000/ 200000:2.2877\n",
      " 120000/ 200000:2.2102\n",
      " 130000/ 200000:2.2873\n",
      " 140000/ 200000:2.0506\n",
      " 150000/ 200000:2.3827\n",
      " 160000/ 200000:2.1313\n",
      " 170000/ 200000:2.0129\n",
      " 180000/ 200000:2.4203\n",
      " 190000/ 200000:1.8138\n"
     ]
    }
   ],
   "source": [
    "max_steps = 200000\n",
    "batch_size = 32\n",
    "lossi = []\n",
    "\n",
    "for i in range(max_steps):\n",
    "    # Creating a mini batch \n",
    "    ix = torch.randint(0, Xtr.shape[0], (batch_size, ), generator=g)\n",
    "    # Forward pass\n",
    "    emb = C[Xtr[ix]] # (32,3,2) # Embed the characters into vectors\n",
    "    embcat = emb.view(emb.shape[0], -1) # Concatenate the vectors\n",
    "    hpreact = embcat @ W1 + b1\n",
    "    h = torch.tanh(hpreact)\n",
    "    logits = h @ W2 + b2\n",
    "    loss = F.cross_entropy(logits, Ytr[ix])\n",
    "    # Backward pass\n",
    "    for p in parameters:\n",
    "        p.grad = None\n",
    "    loss.backward()\n",
    "    #Update\n",
    "    lr = 0.1 if i < 100000 else 0.01\n",
    "    for p in parameters:\n",
    "        p.data += -0.1 * p.grad\n",
    "    # Track status\n",
    "    if i % 10000 == 0: # Print every once in a while\n",
    "        print(f'{i:7d}/{max_steps:7d}:{loss.item():.4f}')\n",
    "    lossi.append(loss.log10().item())\n",
    "    "
   ]
  },
  {
   "cell_type": "code",
   "execution_count": 42,
   "id": "31a22c42",
   "metadata": {},
   "outputs": [
    {
     "name": "stdout",
     "output_type": "stream",
     "text": [
      "train 2.1076157093048096\n",
      "val 2.1758856773376465\n"
     ]
    }
   ],
   "source": [
    "split_loss('train')\n",
    "split_loss('val')"
   ]
  },
  {
   "cell_type": "markdown",
   "id": "b90639e1",
   "metadata": {},
   "source": [
    "## Batch Normalization\n",
    "- The idea of batch normalization is to make the hidden states gaussian with zero mean and unit standard deviation at initialization. This operation is completely differentiable. \n",
    "- One point to note is that we want these hiddle state to be gaussian with zero mean and unit standard deviation only at initalization. During the training, we want them to move around as they are adjusted by the gradients. That is done in batch normalization using bngain and bnbias values. The values of bngain and bnbias change during backpropogation. "
   ]
  },
  {
   "cell_type": "code",
   "execution_count": 59,
   "id": "a10a676b",
   "metadata": {},
   "outputs": [
    {
     "name": "stdout",
     "output_type": "stream",
     "text": [
      "Total parameters: 12297\n"
     ]
    }
   ],
   "source": [
    "# Batch Normalization\n",
    "n_embd = 10 # Dimensionality of the character embedding vectors \n",
    "n_hidden = 200 # The number of neurons in the hidden layer \n",
    "\n",
    "\n",
    "g = torch.Generator().manual_seed(2147483647)\n",
    "C = torch.randn((vocab_size,n_embd), generator=g)\n",
    "W1 = torch.randn((n_embd * block_size,n_hidden), generator=g) * (5/3)/((n_embd * block_size)**0.5)\n",
    "b1 = torch.randn(n_hidden, generator=g) * 0.01\n",
    "W2 = torch.randn((n_hidden,vocab_size), generator=g) * 0.01\n",
    "b2 = torch.randn(vocab_size, generator=g) * 0\n",
    "\n",
    "\n",
    "bngain = torch.ones((1, n_hidden))\n",
    "bnbias = torch.zeros((1, n_hidden))\n",
    "\n",
    "bnmean_running = torch.zeros((1, n_hidden))\n",
    "bnstd_running = torch.ones((1, n_hidden))\n",
    "\n",
    "parameters = [C, W1, b1, W2, b2, bngain, bnbias]\n",
    "\n",
    "print(\"Total parameters:\", sum(p.nelement() for p in parameters)) # Number of parameters in total\n",
    "for p in parameters:\n",
    "    p.requires_grad = True"
   ]
  },
  {
   "cell_type": "code",
   "execution_count": 61,
   "id": "6fdcc339",
   "metadata": {},
   "outputs": [
    {
     "name": "stdout",
     "output_type": "stream",
     "text": [
      "      0/ 200000:3.3100\n",
      "  10000/ 200000:2.3046\n",
      "  20000/ 200000:2.1077\n",
      "  30000/ 200000:2.3259\n",
      "  40000/ 200000:2.5699\n",
      "  50000/ 200000:2.3077\n",
      "  60000/ 200000:2.2975\n",
      "  70000/ 200000:1.8717\n",
      "  80000/ 200000:2.1813\n",
      "  90000/ 200000:2.2421\n",
      " 100000/ 200000:2.3890\n",
      " 110000/ 200000:1.8752\n",
      " 120000/ 200000:2.3898\n",
      " 130000/ 200000:2.2642\n",
      " 140000/ 200000:1.9766\n",
      " 150000/ 200000:2.3361\n",
      " 160000/ 200000:2.1018\n",
      " 170000/ 200000:2.1136\n",
      " 180000/ 200000:2.2504\n",
      " 190000/ 200000:1.7380\n"
     ]
    }
   ],
   "source": [
    "max_steps = 200000\n",
    "batch_size = 32\n",
    "lossi = []\n",
    "\n",
    "for i in range(max_steps):\n",
    "    # Creating a mini batch \n",
    "    ix = torch.randint(0, Xtr.shape[0], (batch_size, ), generator=g)\n",
    "    Xb, Yb = Xtr[ix], Ytr[ix]\n",
    "    # Forward pass\n",
    "    emb = C[Xb] # (32,3,2) # Embed the characters into vectors\n",
    "    embcat = emb.view(emb.shape[0], -1) # Concatenate the vectors\n",
    "    hpreact = embcat @ W1 + b1 #b1 Not needed because of batch normalization.\n",
    "    bnmeani = hpreact.mean(0, keepdim=True)\n",
    "    bnstdi = hpreact.std(0, keepdim=True)\n",
    "    hpreact = bngain * (hpreact - bnmeani) / bnstdi + bnbias\n",
    "    \n",
    "    with torch.no_grad():\n",
    "        bnmean_running = 0.999 * bnmean_running + 0.001 * bnmeani\n",
    "        bnstd_running = 0.999 * bnstd_running + 0.001 * bnstdi\n",
    "    h = torch.tanh(hpreact)\n",
    "    logits = h @ W2 + b2\n",
    "    loss = F.cross_entropy(logits, Yb)\n",
    "    # Backward pass\n",
    "    for p in parameters:\n",
    "        p.grad = None\n",
    "    loss.backward()\n",
    "    #Update\n",
    "    lr = 0.1 if i < 100000 else 0.01\n",
    "    for p in parameters:\n",
    "        p.data += -lr * p.grad\n",
    "    # Track status\n",
    "    if i % 10000 == 0: # Print every once in a while\n",
    "        print(f'{i:7d}/{max_steps:7d}:{loss.item():.4f}')\n",
    "    lossi.append(loss.log10().item())\n",
    "    \n",
    "    "
   ]
  },
  {
   "cell_type": "markdown",
   "id": "24724f81",
   "metadata": {},
   "source": [
    "### Note:\n",
    "- We also need to do batch normalization during the test time. "
   ]
  },
  {
   "cell_type": "markdown",
   "id": "b4288d21",
   "metadata": {},
   "source": [
    "### Note:\n",
    "- Batch normalization is easy to implement in very deep neural nets compared to the previous approach. Its easy to sprinkle batch normalization layers through out the neural network.\n",
    "- The effectiveness of Batchnormalization is difficult to observe in this example as the network is very small. \n",
    "- Batch normalization provides great stability to training process. \n",
    "- But stability comes at a cost, as we are doing batch normalization and finding meaning and standard deviation of the batch of the examples in a hidden state of a single example we are kind of mathematically coupling these batch of examples. So the hidden states or the logits are not only the function of a single example but a function of the batch of the examples. This seems to be a bug but it turns out to be good in training as side effect. It acts like a regularizer. It is adding entropy in a particular example and making harder for neural nets to overfit. \n",
    "- This coupling also affects the inference stage. As we are using batch normalized h values are coupled with all the examples in the batches. To solve this issue, we will have a step after training, that calculates the batchnorm mean and standard deviation a single time over the training set. And we use those values to calculate h. Refer the following cells. "
   ]
  },
  {
   "cell_type": "code",
   "execution_count": 62,
   "id": "13710dfc",
   "metadata": {},
   "outputs": [],
   "source": [
    "# Calibrate the batch norm at the end of training \n",
    "\n",
    "with torch.no_grad():\n",
    "    # Pass the training set through \n",
    "    emb = C[Xtr]\n",
    "    embcat = emb.view(emb.shape[0], -1)\n",
    "    hpreact = embcat @ W1 + b1\n",
    "    bnmean = hpreact.mean(0, keepdim=True)\n",
    "    bnstd = hpreact.std(0, keepdim=True)"
   ]
  },
  {
   "cell_type": "code",
   "execution_count": 63,
   "id": "7d5ea0dd",
   "metadata": {},
   "outputs": [
    {
     "name": "stdout",
     "output_type": "stream",
     "text": [
      "train 2.0656299591064453\n",
      "val 2.1104588508605957\n"
     ]
    }
   ],
   "source": [
    "@torch.no_grad() # This decorator disables gradient tracking it almost like all the tensors created in the function has requires_grad = falls. \n",
    "def split_loss(split):\n",
    "    x,y = {\n",
    "        'train': (Xtr, Ytr),\n",
    "        'val': {Xdev, Ydev},\n",
    "        'test': {Xte, Yte},\n",
    "    }[split]\n",
    "    emb = C[x]\n",
    "    embcat = emb.view(emb.shape[0], -1) # Concatenate the vectors\n",
    "    hpreact = embcat @ W1 + b1\n",
    "    hpreact = bngain * (hpreact - bnmean) / bnstd + bnbias\n",
    "    h = torch.tanh(hpreact)\n",
    "    logits = h @ W2 + b2\n",
    "    loss = F.cross_entropy(logits, y)\n",
    "    print(split, loss.item())\n",
    "    \n",
    "split_loss('train')\n",
    "split_loss('val')"
   ]
  },
  {
   "cell_type": "markdown",
   "id": "a7313fa7",
   "metadata": {},
   "source": [
    "### Note:\n",
    "- The same mean and standard deviations can be calculated in running manner. \n"
   ]
  },
  {
   "cell_type": "code",
   "execution_count": 64,
   "id": "cf2d00cf",
   "metadata": {},
   "outputs": [
    {
     "name": "stdout",
     "output_type": "stream",
     "text": [
      "train 2.0654807090759277\n",
      "val 2.1108672618865967\n"
     ]
    }
   ],
   "source": [
    "@torch.no_grad() # This decorator disables gradient tracking it almost like all the tensors created in the function has requires_grad = falls. \n",
    "def split_loss(split):\n",
    "    x,y = {\n",
    "        'train': (Xtr, Ytr),\n",
    "        'val': {Xdev, Ydev},\n",
    "        'test': {Xte, Yte},\n",
    "    }[split]\n",
    "    emb = C[x]\n",
    "    embcat = emb.view(emb.shape[0], -1) # Concatenate the vectors\n",
    "    hpreact = embcat @ W1 + b1\n",
    "    hpreact = bngain * (hpreact - bnmean_running) / bnstd_running + bnbias\n",
    "    h = torch.tanh(hpreact)\n",
    "    logits = h @ W2 + b2\n",
    "    loss = F.cross_entropy(logits, y)\n",
    "    print(split, loss.item())\n",
    "    \n",
    "split_loss('train')\n",
    "split_loss('val')"
   ]
  },
  {
   "cell_type": "markdown",
   "id": "023b287c",
   "metadata": {},
   "source": [
    "## Note:\n",
    "- When we are using batch normalization then the bias term becomes useless as we are calulating mean and then subtracting it. If you check b1.grad that would be zero.\n",
    "\n",
    "## Additional notes on batch normalization\n",
    "- Batch normalization can be sprinkled across the neural network but generally we add it after the layers that have multiplications like linear layer or convolutional layers. "
   ]
  },
  {
   "cell_type": "code",
   "execution_count": null,
   "id": "986ad344",
   "metadata": {},
   "outputs": [],
   "source": []
  },
  {
   "cell_type": "code",
   "execution_count": null,
   "id": "2fb767ef",
   "metadata": {},
   "outputs": [],
   "source": []
  }
 ],
 "metadata": {
  "kernelspec": {
   "display_name": "Python 3 (ipykernel)",
   "language": "python",
   "name": "python3"
  },
  "language_info": {
   "codemirror_mode": {
    "name": "ipython",
    "version": 3
   },
   "file_extension": ".py",
   "mimetype": "text/x-python",
   "name": "python",
   "nbconvert_exporter": "python",
   "pygments_lexer": "ipython3",
   "version": "3.11.5"
  }
 },
 "nbformat": 4,
 "nbformat_minor": 5
}
