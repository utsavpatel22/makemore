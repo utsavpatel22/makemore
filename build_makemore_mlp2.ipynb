{
 "cells": [
  {
   "cell_type": "markdown",
   "id": "74011403",
   "metadata": {},
   "source": [
    "# Makemore part: 3"
   ]
  },
  {
   "cell_type": "code",
   "execution_count": 1,
   "id": "c2065d84",
   "metadata": {},
   "outputs": [],
   "source": [
    "import torch\n",
    "import torch.nn.functional as F\n",
    "import matplotlib.pyplot as plt\n",
    "%matplotlib inline"
   ]
  },
  {
   "cell_type": "code",
   "execution_count": 2,
   "id": "dfacf77e",
   "metadata": {},
   "outputs": [
    {
     "data": {
      "text/plain": [
       "['emma', 'olivia', 'ava', 'isabella', 'sophia', 'charlotte', 'mia', 'amelia']"
      ]
     },
     "execution_count": 2,
     "metadata": {},
     "output_type": "execute_result"
    }
   ],
   "source": [
    "# Read all the words \n",
    "words = open('names.txt', 'r').read().splitlines()\n",
    "words[:8]"
   ]
  },
  {
   "cell_type": "code",
   "execution_count": 3,
   "id": "7ffc86d5",
   "metadata": {},
   "outputs": [
    {
     "data": {
      "text/plain": [
       "32033"
      ]
     },
     "execution_count": 3,
     "metadata": {},
     "output_type": "execute_result"
    }
   ],
   "source": [
    "len(words)"
   ]
  },
  {
   "cell_type": "code",
   "execution_count": 4,
   "id": "a2dd5e46",
   "metadata": {},
   "outputs": [
    {
     "name": "stdout",
     "output_type": "stream",
     "text": [
      "{1: 'a', 2: 'b', 3: 'c', 4: 'd', 5: 'e', 6: 'f', 7: 'g', 8: 'h', 9: 'i', 10: 'j', 11: 'k', 12: 'l', 13: 'm', 14: 'n', 15: 'o', 16: 'p', 17: 'q', 18: 'r', 19: 's', 20: 't', 21: 'u', 22: 'v', 23: 'w', 24: 'x', 25: 'y', 26: 'z', 0: '.'}\n"
     ]
    }
   ],
   "source": [
    "# Build the volcabulary of the characters and mapping to/from integers \n",
    "chars = sorted(list(set(''.join(words))))\n",
    "stoi = {s:i+1 for i,s in enumerate(chars)}\n",
    "stoi['.'] = 0\n",
    "itos = {i:s for s,i in stoi.items()}\n",
    "print(itos)\n",
    "vocab_size = len(itos)\n"
   ]
  },
  {
   "cell_type": "code",
   "execution_count": 8,
   "id": "718efe3b",
   "metadata": {},
   "outputs": [
    {
     "name": "stdout",
     "output_type": "stream",
     "text": [
      "torch.Size([182580, 3]) torch.Size([182580])\n",
      "torch.Size([22767, 3]) torch.Size([22767])\n",
      "torch.Size([22799, 3]) torch.Size([22799])\n"
     ]
    }
   ],
   "source": [
    "# Build the dataset\n",
    "# Training split, dev/validation split, test split \n",
    "# 80%, 10%, 10%\n",
    "# Training set: Used to optimize the parameters of the model\n",
    "# Dev/ validation set: Used to development of all the hyperparameters of the model like size of the hidden layer, size of the embedding etc.\n",
    "# test set: evaluate the performance of the model. You should test on test set few times otherwise you might end up overfitting to test set as well. \n",
    "block_size = 3 # context length: how many characters do we take to predict the next one?\n",
    "def build_dataset(words):\n",
    "    \n",
    "    X, Y = [], []\n",
    "\n",
    "    for w in words:\n",
    "    #     print(w)\n",
    "        context = [0] * block_size\n",
    "        for ch in w + '.':\n",
    "            ix = stoi[ch]\n",
    "            X.append(context)\n",
    "            Y.append(ix)\n",
    "    #         print(''.join(itos[i] for i in context),'------>',itos[ix])\n",
    "            context = context[1:] + [ix]\n",
    "    X = torch.tensor(X)\n",
    "    Y = torch.tensor(Y)\n",
    "    print(X.shape, Y.shape)\n",
    "    return X, Y\n",
    "\n",
    "import random \n",
    "random.seed(42)\n",
    "random.shuffle(words)\n",
    "n1 = int(0.8*len(words))\n",
    "n2 = int(0.9*len(words))\n",
    "\n",
    "Xtr, Ytr = build_dataset(words[:n1])\n",
    "Xdev, Ydev = build_dataset(words[n1:n2])\n",
    "Xte, Yte = build_dataset(words[n2:])"
   ]
  },
  {
   "cell_type": "code",
   "execution_count": 9,
   "id": "8db62b6d",
   "metadata": {},
   "outputs": [
    {
     "name": "stdout",
     "output_type": "stream",
     "text": [
      "Total parameters: 11897\n"
     ]
    }
   ],
   "source": [
    "# MLP revisited \n",
    "n_embd = 10 # Dimensionality of the character embedding vectors \n",
    "n_hidden = 200 # The number of neurons in the hidden layer \n",
    "\n",
    "\n",
    "g = torch.Generator().manual_seed(2147483647)\n",
    "C = torch.randn((vocab_size,n_embd), generator=g)\n",
    "W1 = torch.randn((n_embd * block_size,n_hidden), generator=g)\n",
    "b1 = torch.randn(n_hidden, generator=g)\n",
    "W2 = torch.randn((n_hidden,vocab_size), generator=g)\n",
    "b2 = torch.randn(vocab_size, generator=g)\n",
    "parameters = [C, W1, b1, W2, b2]\n",
    "\n",
    "print(\"Total parameters:\", sum(p.nelement() for p in parameters)) # Number of parameters in total\n",
    "for p in parameters:\n",
    "    p.requires_grad = True"
   ]
  },
  {
   "cell_type": "code",
   "execution_count": 10,
   "id": "298e3d74",
   "metadata": {},
   "outputs": [
    {
     "name": "stdout",
     "output_type": "stream",
     "text": [
      "      0/ 200000:26.5404\n",
      "  10000/ 200000:2.8081\n",
      "  20000/ 200000:2.5536\n",
      "  30000/ 200000:2.2321\n",
      "  40000/ 200000:2.3702\n",
      "  50000/ 200000:2.6762\n",
      "  60000/ 200000:2.3352\n",
      "  70000/ 200000:2.3170\n",
      "  80000/ 200000:2.1569\n",
      "  90000/ 200000:2.0086\n",
      " 100000/ 200000:2.3446\n",
      " 110000/ 200000:2.6480\n",
      " 120000/ 200000:2.3732\n",
      " 130000/ 200000:2.4724\n",
      " 140000/ 200000:2.3639\n",
      " 150000/ 200000:2.4341\n",
      " 160000/ 200000:2.2881\n",
      " 170000/ 200000:2.3129\n",
      " 180000/ 200000:2.6699\n",
      " 190000/ 200000:2.0227\n"
     ]
    }
   ],
   "source": [
    "max_steps = 200000\n",
    "batch_size = 32\n",
    "lossi = []\n",
    "\n",
    "for i in range(max_steps):\n",
    "    # Creating a mini batch \n",
    "    ix = torch.randint(0, Xtr.shape[0], (batch_size, ), generator=g)\n",
    "    # Forward pass\n",
    "    emb = C[Xtr[ix]] # (32,3,2) # Embed the characters into vectors\n",
    "    embcat = emb.view(emb.shape[0], -1) # Concatenate the vectors\n",
    "    hpreact = embcat @ W1 + b1\n",
    "    h = torch.tanh(hpreact)\n",
    "    logits = h @ W2 + b2\n",
    "    loss = F.cross_entropy(logits, Ytr[ix])\n",
    "    # Backward pass\n",
    "    for p in parameters:\n",
    "        p.grad = None\n",
    "    loss.backward()\n",
    "    #Update\n",
    "    lr = 0.1 if i < 100000 else 0.01\n",
    "    for p in parameters:\n",
    "        p.data += -0.1 * p.grad\n",
    "    # Track status\n",
    "    if i % 10000 == 0: # Print every once in a while\n",
    "        print(f'{i:7d}/{max_steps:7d}:{loss.item():.4f}')\n",
    "    lossi.append(loss.log10().item())\n",
    "    \n"
   ]
  },
  {
   "cell_type": "code",
   "execution_count": 11,
   "id": "058c031e",
   "metadata": {},
   "outputs": [
    {
     "data": {
      "text/plain": [
       "[<matplotlib.lines.Line2D at 0x1379d1190>]"
      ]
     },
     "execution_count": 11,
     "metadata": {},
     "output_type": "execute_result"
    },
    {
     "data": {
      "image/png": "[encoded data removed]",
      "text/plain": [
       "<Figure size 640x480 with 1 Axes>"
      ]
     },
     "metadata": {},
     "output_type": "display_data"
    }
   ],
   "source": [
    "plt.plot(lossi)"
   ]
  },
  {
   "cell_type": "code",
   "execution_count": 12,
   "id": "eed23ded",
   "metadata": {},
   "outputs": [
    {
     "name": "stdout",
     "output_type": "stream",
     "text": [
      "train 2.2444818019866943\n",
      "val 2.3008430004119873\n"
     ]
    }
   ],
   "source": [
    "@torch.no_grad() # This decorator disables gradient tracking it almost like all the tensors created in the function has requires_grad = falls. \n",
    "def split_loss(split):\n",
    "    x,y = {\n",
    "        'train': (Xtr, Ytr),\n",
    "        'val': {Xdev, Ydev},\n",
    "        'test': {Xte, Yte},\n",
    "    }[split]\n",
    "    emb = C[x]\n",
    "    embcat = emb.view(emb.shape[0], -1) # Concatenate the vectors\n",
    "    h = torch.tanh(embcat @ W1 + b1)\n",
    "    logits = h @ W2 + b2\n",
    "    loss = F.cross_entropy(logits, y)\n",
    "    print(split, loss.item())\n",
    "    \n",
    "split_loss('train')\n",
    "split_loss('val')"
   ]
  },
  {
   "cell_type": "code",
   "execution_count": 13,
   "id": "1e8c3966",
   "metadata": {},
   "outputs": [
    {
     "name": "stdout",
     "output_type": "stream",
     "text": [
      "carmah.\n",
      "quielleigh.\n",
      "mir.\n",
      "jerty.\n",
      "hucheski.\n",
      "rahnee.\n",
      "den.\n",
      "rhe.\n",
      "kaeli.\n",
      "jermari.\n",
      "chriir.\n",
      "jaleigh.\n",
      "ham.\n",
      "jore.\n",
      "quinton.\n",
      "lilea.\n",
      "jamiliorterrisharisika.\n",
      "jureighayley.\n",
      "emiia.\n",
      "gian.\n"
     ]
    }
   ],
   "source": [
    "# Sample from the model \n",
    "g = torch.Generator().manual_seed(2147483647 + 10)\n",
    "\n",
    "for _ in range(20):\n",
    "    out = []\n",
    "    context = [0] * block_size # Initialize with all ...\n",
    "    while True:\n",
    "        emb = C[torch.tensor([context])]\n",
    "        h = torch.tanh(emb.view(1,-1) @ W1 + b1)\n",
    "        logits = h @ W2 + b2\n",
    "        probs = F.softmax(logits, dim=1)\n",
    "        ix = torch.multinomial(probs, num_samples=1, generator=g).item()\n",
    "        context = context[1:] + [ix]\n",
    "        out.append(ix)\n",
    "        if ix == 0:\n",
    "            break\n",
    "    print(''.join(itos[i] for i in out))\n",
    "        \n",
    "        \n",
    "        "
   ]
  },
  {
   "cell_type": "markdown",
   "id": "56f23ebf",
   "metadata": {},
   "source": [
    "## What is wrong here?\n",
    "- At the initialization of this network, the loss is too high (around 26). It shows the network is poorly configured at the initialization. \n",
    "- With training of neural nets you have a rough idea of what loss to expect at initialization. \n",
    "- For this particular case, we know that at the start all the 27 characters are equally likely to come next for any training example. So we would expect uniform probability distribution in the beginning. So the probability of any character should be 1/27 in our example. In the following cell what loss we should expect at the initialization is calculated. \n"
   ]
  },
  {
   "cell_type": "code",
   "execution_count": 14,
   "id": "a4bdb57b",
   "metadata": {},
   "outputs": [
    {
     "data": {
      "text/plain": [
       "tensor(3.2958)"
      ]
     },
     "execution_count": 14,
     "metadata": {},
     "output_type": "execute_result"
    }
   ],
   "source": [
    "-torch.tensor(1/27.0).log()"
   ]
  },
  {
   "cell_type": "markdown",
   "id": "538b0c89",
   "metadata": {},
   "source": [
    "### Fixing initialization:\n",
    "- With our current initialization, the neural net is creating probability distribution that is all messed up. Some characters are assigned very high probability whereas some are assigned very low probability. So the network is very confidently wrong. Thats what makes it record very high loss. \n",
    "- In the following cells, we are rectifying this issue. The current values of logits are very high. We are trying make them come close to zero.\n",
    "- The first step is to make b2 zero as that is adding in logits calculation. \n",
    "- Second is to scale down w2. "
   ]
  },
  {
   "cell_type": "code",
   "execution_count": 15,
   "id": "8467d906",
   "metadata": {},
   "outputs": [
    {
     "name": "stdout",
     "output_type": "stream",
     "text": [
      "Total parameters: 11897\n"
     ]
    }
   ],
   "source": [
    "n_embd = 10 # Dimensionality of the character embedding vectors \n",
    "n_hidden = 200 # The number of neurons in the hidden layer \n",
    "\n",
    "\n",
    "g = torch.Generator().manual_seed(2147483647)\n",
    "C = torch.randn((vocab_size,n_embd), generator=g)\n",
    "W1 = torch.randn((n_embd * block_size,n_hidden), generator=g)\n",
    "b1 = torch.randn(n_hidden, generator=g)\n",
    "W2 = torch.randn((n_hidden,vocab_size), generator=g) * 0.01\n",
    "b2 = torch.randn(vocab_size, generator=g) * 0\n",
    "parameters = [C, W1, b1, W2, b2]\n",
    "\n",
    "print(\"Total parameters:\", sum(p.nelement() for p in parameters)) # Number of parameters in total\n",
    "for p in parameters:\n",
    "    p.requires_grad = True"
   ]
  },
  {
   "cell_type": "code",
   "execution_count": 16,
   "id": "76965e94",
   "metadata": {},
   "outputs": [
    {
     "name": "stdout",
     "output_type": "stream",
     "text": [
      "      0/ 200000:3.3148\n"
     ]
    }
   ],
   "source": [
    "max_steps = 200000\n",
    "batch_size = 32\n",
    "lossi = []\n",
    "\n",
    "for i in range(max_steps):\n",
    "    # Creating a mini batch \n",
    "    ix = torch.randint(0, Xtr.shape[0], (batch_size, ), generator=g)\n",
    "    # Forward pass\n",
    "    emb = C[Xtr[ix]] # (32,3,2) # Embed the characters into vectors\n",
    "    embcat = emb.view(emb.shape[0], -1) # Concatenate the vectors\n",
    "    hpreact = embcat @ W1 + b1\n",
    "    h = torch.tanh(hpreact)\n",
    "    logits = h @ W2 + b2\n",
    "    loss = F.cross_entropy(logits, Ytr[ix])\n",
    "    # Backward pass\n",
    "    for p in parameters:\n",
    "        p.grad = None\n",
    "    loss.backward()\n",
    "    #Update\n",
    "    lr = 0.1 if i < 100000 else 0.01\n",
    "    for p in parameters:\n",
    "        p.data += -0.1 * p.grad\n",
    "    # Track status\n",
    "    if i % 10000 == 0: # Print every once in a while\n",
    "        print(f'{i:7d}/{max_steps:7d}:{loss.item():.4f}')\n",
    "    lossi.append(loss.log10().item())\n",
    "    break\n",
    "    \n"
   ]
  },
  {
   "cell_type": "markdown",
   "id": "4465508e",
   "metadata": {},
   "source": [
    "#### Note:\n",
    "- We will now not be getting the hockey shape graph. This it true for any neural network we train. "
   ]
  },
  {
   "cell_type": "code",
   "execution_count": 17,
   "id": "bcdf5c08",
   "metadata": {},
   "outputs": [
    {
     "data": {
      "text/plain": [
       "[<matplotlib.lines.Line2D at 0x1541c11d0>]"
      ]
     },
     "execution_count": 17,
     "metadata": {},
     "output_type": "execute_result"
    },
    {
     "data": {
      "image/png": "[encoded data removed]",
      "text/plain": [
       "<Figure size 640x480 with 1 Axes>"
      ]
     },
     "metadata": {},
     "output_type": "display_data"
    }
   ],
   "source": [
    "plt.plot(lossi)"
   ]
  },
  {
   "cell_type": "markdown",
   "id": "412a75c7",
   "metadata": {},
   "source": [
    "### Problem with h:\n",
    "- Now as we resolved the initialization problem, there are still some issues with the value of h. \n",
    "- Many elements of h are 1 or -1. \n",
    "- tanh is a squashing function, meaning it will squash the input values between 1 and -1. \n",
    "- See the histogram below. \n",
    "- This will create a problem during back propogation. If the value is 1 or -1, we are killing the gradient by making it 0 (Check the equation of backward pass for the tanh layer). So we are effectively making the backpropogation through this tanh layer. Intutively as well the value of slope near the end of tanh is almost zero. \n",
    "- To futher assess the problem. We are also plotting the absolute values of h as a figure to show that how many times it is greater than 0.99. White parts shows whenever the condition is true. \n",
    "- In the figure, if any one column is entirely white then that corresponds to a dead neuron out of the 200 neurons. These neurons will never learn as the gradient never passes through them.\n",
    "- This is not just true for tanh but true for a lot of other non-linearities. \n",
    "- This dead neuron can happen during the intialization stage when the weights and biases are such that they are not in the learning range and the neurons are dead.\n",
    "- But this can also happen during the learning stage (optimization stage) as well. When the gradient is so high (maybe due to very high learning rate) that it will knock that neuron out of the data manifold, and from then no example will ever activate the neuron. They will like dead brain cells (permanent brain damage).  \n",
    "- Some non linearities like leaky relu doesnt suffer this issue. "
   ]
  },
  {
   "cell_type": "code",
   "execution_count": 18,
   "id": "e15df13e",
   "metadata": {},
   "outputs": [
    {
     "data": {
      "text/plain": [
       "<matplotlib.image.AxesImage at 0x1554cd3d0>"
      ]
     },
     "execution_count": 18,
     "metadata": {},
     "output_type": "execute_result"
    },
    {
     "data": {
      "image/png": "[encoded data removed]",
      "text/plain": [
       "<Figure size 640x480 with 1 Axes>"
      ]
     },
     "metadata": {},
     "output_type": "display_data"
    },
    {
     "data": {
      "image/png": "[encoded data removed]",
      "text/plain": [
       "<Figure size 2000x1000 with 1 Axes>"
      ]
     },
     "metadata": {},
     "output_type": "display_data"
    }
   ],
   "source": [
    "plt.hist(h.view(-1).tolist(), 50)\n",
    "plt.figure(figsize=(20,10))\n",
    "plt.imshow(h.abs() > 0.99, cmap='gray', interpolation='nearest')"
   ]
  },
  {
   "cell_type": "markdown",
   "id": "d342a9f2",
   "metadata": {},
   "source": [
    "### Fixing the issue with tanh\n",
    "- We will use the similar approach that we used to resolve the issue with initialization. \n",
    "- We will scale down the effect of W1 and b1 to get smaller values for hpreact "
   ]
  },
  {
   "cell_type": "code",
   "execution_count": 19,
   "id": "1930ad6c",
   "metadata": {},
   "outputs": [
    {
     "name": "stdout",
     "output_type": "stream",
     "text": [
      "Total parameters: 11897\n"
     ]
    }
   ],
   "source": [
    "# Fixing the issue with tanh\n",
    "n_embd = 10 # Dimensionality of the character embedding vectors \n",
    "n_hidden = 200 # The number of neurons in the hidden layer \n",
    "\n",
    "\n",
    "g = torch.Generator().manual_seed(2147483647)\n",
    "C = torch.randn((vocab_size,n_embd), generator=g)\n",
    "W1 = torch.randn((n_embd * block_size,n_hidden), generator=g) * 0.2\n",
    "b1 = torch.randn(n_hidden, generator=g) * 0.01\n",
    "W2 = torch.randn((n_hidden,vocab_size), generator=g) * 0.01\n",
    "b2 = torch.randn(vocab_size, generator=g) * 0\n",
    "parameters = [C, W1, b1, W2, b2]\n",
    "\n",
    "print(\"Total parameters:\", sum(p.nelement() for p in parameters)) # Number of parameters in total\n",
    "for p in parameters:\n",
    "    p.requires_grad = True"
   ]
  },
  {
   "cell_type": "code",
   "execution_count": 20,
   "id": "86541019",
   "metadata": {},
   "outputs": [
    {
     "name": "stdout",
     "output_type": "stream",
     "text": [
      "      0/ 200000:3.3091\n"
     ]
    }
   ],
   "source": [
    "max_steps = 200000\n",
    "batch_size = 32\n",
    "lossi = []\n",
    "\n",
    "for i in range(max_steps):\n",
    "    # Creating a mini batch \n",
    "    ix = torch.randint(0, Xtr.shape[0], (batch_size, ), generator=g)\n",
    "    # Forward pass\n",
    "    emb = C[Xtr[ix]] # (32,3,2) # Embed the characters into vectors\n",
    "    embcat = emb.view(emb.shape[0], -1) # Concatenate the vectors\n",
    "    hpreact = embcat @ W1 + b1\n",
    "    h = torch.tanh(hpreact)\n",
    "    logits = h @ W2 + b2\n",
    "    loss = F.cross_entropy(logits, Ytr[ix])\n",
    "    # Backward pass\n",
    "    for p in parameters:\n",
    "        p.grad = None\n",
    "    loss.backward()\n",
    "    #Update\n",
    "    lr = 0.1 if i < 100000 else 0.01\n",
    "    for p in parameters:\n",
    "        p.data += -0.1 * p.grad\n",
    "    # Track status\n",
    "    if i % 10000 == 0: # Print every once in a while\n",
    "        print(f'{i:7d}/{max_steps:7d}:{loss.item():.4f}')\n",
    "    lossi.append(loss.log10().item())\n",
    "    break\n",
    "    \n"
   ]
  },
  {
   "cell_type": "code",
   "execution_count": 21,
   "id": "43f45b3a",
   "metadata": {},
   "outputs": [
    {
     "data": {
      "text/plain": [
       "<matplotlib.image.AxesImage at 0x1553302d0>"
      ]
     },
     "execution_count": 21,
     "metadata": {},
     "output_type": "execute_result"
    },
    {
     "data": {
      "image/png": "[encoded data removed]",
      "text/plain": [
       "<Figure size 640x480 with 1 Axes>"
      ]
     },
     "metadata": {},
     "output_type": "display_data"
    },
    {
     "data": {
      "image/png": "[encoded data removed]",
      "text/plain": [
       "<Figure size 2000x1000 with 1 Axes>"
      ]
     },
     "metadata": {},
     "output_type": "display_data"
    }
   ],
   "source": [
    "plt.hist(h.view(-1).tolist(), 50)\n",
    "plt.figure(figsize=(20,10))\n",
    "plt.imshow(h.abs() > 0.99, cmap='gray', interpolation='nearest')"
   ]
  },
  {
   "cell_type": "markdown",
   "id": "379ce7f4",
   "metadata": {},
   "source": [
    "- This seems to be a nice distribution. \n",
    "- Now training the full model"
   ]
  },
  {
   "cell_type": "code",
   "execution_count": 22,
   "id": "5ee56a6e",
   "metadata": {},
   "outputs": [
    {
     "name": "stdout",
     "output_type": "stream",
     "text": [
      "      0/ 200000:3.2663\n",
      "  10000/ 200000:2.2931\n",
      "  20000/ 200000:2.1187\n",
      "  30000/ 200000:2.3928\n",
      "  40000/ 200000:2.5118\n",
      "  50000/ 200000:2.1796\n",
      "  60000/ 200000:2.1923\n",
      "  70000/ 200000:1.9117\n",
      "  80000/ 200000:2.1906\n",
      "  90000/ 200000:2.1909\n",
      " 100000/ 200000:2.2332\n",
      " 110000/ 200000:1.9322\n",
      " 120000/ 200000:2.2691\n",
      " 130000/ 200000:2.3383\n",
      " 140000/ 200000:2.0510\n",
      " 150000/ 200000:2.3847\n",
      " 160000/ 200000:1.9547\n",
      " 170000/ 200000:2.3453\n",
      " 180000/ 200000:2.3012\n",
      " 190000/ 200000:1.7317\n"
     ]
    }
   ],
   "source": [
    "max_steps = 200000\n",
    "batch_size = 32\n",
    "lossi = []\n",
    "\n",
    "for i in range(max_steps):\n",
    "    # Creating a mini batch \n",
    "    ix = torch.randint(0, Xtr.shape[0], (batch_size, ), generator=g)\n",
    "    # Forward pass\n",
    "    emb = C[Xtr[ix]] # (32,3,2) # Embed the characters into vectors\n",
    "    embcat = emb.view(emb.shape[0], -1) # Concatenate the vectors\n",
    "    hpreact = embcat @ W1 + b1\n",
    "    h = torch.tanh(hpreact)\n",
    "    logits = h @ W2 + b2\n",
    "    loss = F.cross_entropy(logits, Ytr[ix])\n",
    "    # Backward pass\n",
    "    for p in parameters:\n",
    "        p.grad = None\n",
    "    loss.backward()\n",
    "    #Update\n",
    "    lr = 0.1 if i < 100000 else 0.01\n",
    "    for p in parameters:\n",
    "        p.data += -0.1 * p.grad\n",
    "    # Track status\n",
    "    if i % 10000 == 0: # Print every once in a while\n",
    "        print(f'{i:7d}/{max_steps:7d}:{loss.item():.4f}')\n",
    "    lossi.append(loss.log10().item())\n",
    "    \n",
    "    \n"
   ]
  },
  {
   "cell_type": "code",
   "execution_count": 23,
   "id": "a9fe2d80",
   "metadata": {},
   "outputs": [
    {
     "name": "stdout",
     "output_type": "stream",
     "text": [
      "train 2.1032280921936035\n",
      "val 2.1764559745788574\n"
     ]
    }
   ],
   "source": [
    "split_loss('train')\n",
    "split_loss('val')"
   ]
  },
  {
   "cell_type": "markdown",
   "id": "091f6573",
   "metadata": {},
   "source": [
    "### Notes:\n",
    "- We have been working with one layer MLP neural network so the optimization problem is easy and quite forgiving. This is not the case in general though. \n",
    "- With deeper networks the things can get complicated.\n",
    "- We need a structured way of intializing and coming up with the multipliers for weights and biases. \n",
    "- Lets do an experiment. Here in the following cell, we are multiplying two gaussians and finding the mean and standard deviation of the resulting gaussian. "
   ]
  },
  {
   "cell_type": "code",
   "execution_count": 24,
   "id": "a289e0e9",
   "metadata": {},
   "outputs": [
    {
     "name": "stdout",
     "output_type": "stream",
     "text": [
      "tensor(0.0221) tensor(0.9898)\n",
      "tensor(0.0007) tensor(3.2430)\n"
     ]
    },
    {
     "data": {
      "text/plain": [
       "(array([6.60823524e-06, 0.00000000e+00, 0.00000000e+00, 2.64329409e-05,\n",
       "        2.64329409e-05, 6.60823524e-05, 9.25152933e-05, 1.32164705e-04,\n",
       "        3.03978821e-04, 4.95617643e-04, 9.18544698e-04, 1.39433763e-03,\n",
       "        2.03533645e-03, 3.74026114e-03, 6.13905054e-03, 9.81322933e-03,\n",
       "        1.52319822e-02, 2.25406904e-02, 3.31601244e-02, 4.69779443e-02,\n",
       "        6.39016347e-02, 8.38452887e-02, 1.02870398e-01, 1.18723554e-01,\n",
       "        1.29514802e-01, 1.31721953e-01, 1.23104814e-01, 1.07661368e-01,\n",
       "        8.82926310e-02, 6.93005629e-02, 5.18416054e-02, 3.75413844e-02,\n",
       "        2.53293657e-02, 1.63025163e-02, 1.09366293e-02, 6.91882229e-03,\n",
       "        4.09710585e-03, 2.87458233e-03, 1.59919293e-03, 9.18544698e-04,\n",
       "        5.74916466e-04, 2.51112939e-04, 1.98247057e-04, 9.91235286e-05,\n",
       "        5.94741171e-05, 1.98247057e-05, 1.32164705e-05, 2.64329409e-05,\n",
       "        0.00000000e+00, 6.60823524e-06]),\n",
       " array([-19.02019501, -18.26356335, -17.50693169, -16.75030003,\n",
       "        -15.99366837, -15.23703671, -14.48040504, -13.72377338,\n",
       "        -12.96714172, -12.21051006, -11.4538784 , -10.69724674,\n",
       "         -9.94061508,  -9.18398342,  -8.42735176,  -7.6707201 ,\n",
       "         -6.91408844,  -6.15745678,  -5.40082512,  -4.64419346,\n",
       "         -3.8875618 ,  -3.13093014,  -2.37429848,  -1.61766682,\n",
       "         -0.86103516,  -0.1044035 ,   0.65222816,   1.40885983,\n",
       "          2.16549149,   2.92212315,   3.67875481,   4.43538647,\n",
       "          5.19201813,   5.94864979,   6.70528145,   7.46191311,\n",
       "          8.21854477,   8.97517643,   9.73180809,  10.48843975,\n",
       "         11.24507141,  12.00170307,  12.75833473,  13.51496639,\n",
       "         14.27159805,  15.02822971,  15.78486137,  16.54149303,\n",
       "         17.29812469,  18.05475636,  18.81138802]),\n",
       " <BarContainer object of 50 artists>)"
      ]
     },
     "execution_count": 24,
     "metadata": {},
     "output_type": "execute_result"
    },
    {
     "data": {
      "image/png": "[encoded data removed]",
      "text/plain": [
       "<Figure size 2000x500 with 2 Axes>"
      ]
     },
     "metadata": {},
     "output_type": "display_data"
    }
   ],
   "source": [
    "x = torch.randn(1000,10)\n",
    "w = torch.randn(10,200)\n",
    "y = x @ w\n",
    "print(x.mean(), x.std())\n",
    "print(y.mean(),y.std())\n",
    "plt.figure(figsize=(20,5))\n",
    "plt.subplot(121)\n",
    "plt.hist(x.view(-1).tolist(), 50, density=True)\n",
    "plt.subplot(122)\n",
    "plt.hist(y.view(-1).tolist(), 50, density=True)"
   ]
  },
  {
   "cell_type": "markdown",
   "id": "479e10fa",
   "metadata": {},
   "source": [
    "### Note:\n",
    "- We can see that the standard deviation increases after multiplication. \n",
    "- Lets multiply w by a small number and check the resulting standard deviation."
   ]
  },
  {
   "cell_type": "code",
   "execution_count": 25,
   "id": "ee016750",
   "metadata": {},
   "outputs": [
    {
     "name": "stdout",
     "output_type": "stream",
     "text": [
      "tensor(-0.0243) tensor(1.0097)\n",
      "tensor(0.0007) tensor(0.6341)\n"
     ]
    },
    {
     "data": {
      "text/plain": [
       "(array([6.86907088e-05, 1.37381418e-04, 1.37381418e-04, 2.06072126e-04,\n",
       "        2.40417481e-04, 3.09108190e-04, 8.24288506e-04, 1.40815953e-03,\n",
       "        2.23244804e-03, 3.81233434e-03, 6.62865340e-03, 1.02005703e-02,\n",
       "        1.96455427e-02, 3.08077829e-02, 4.83239136e-02, 7.26404246e-02,\n",
       "        1.13683123e-01, 1.63243469e-01, 2.27057138e-01, 3.15599462e-01,\n",
       "        4.11629073e-01, 5.04018076e-01, 5.90327952e-01, 6.56751867e-01,\n",
       "        6.68085834e-01, 6.39270082e-01, 5.74632125e-01, 4.88493976e-01,\n",
       "        3.83465882e-01, 2.95473084e-01, 2.09437971e-01, 1.51978193e-01,\n",
       "        9.99793267e-02, 6.81755285e-02, 4.28630023e-02, 2.78540824e-02,\n",
       "        1.64514248e-02, 9.30759104e-03, 6.73168946e-03, 3.05673654e-03,\n",
       "        1.51119559e-03, 1.16774205e-03, 4.80834962e-04, 1.71726772e-04,\n",
       "        1.71726772e-04, 1.37381418e-04, 3.43453544e-05, 1.03036063e-04,\n",
       "        3.43453544e-05, 6.86907088e-05]),\n",
       " array([-3.54858255, -3.40300246, -3.25742236, -3.11184227, -2.96626217,\n",
       "        -2.82068207, -2.67510198, -2.52952188, -2.38394178, -2.23836169,\n",
       "        -2.09278159, -1.9472015 , -1.8016214 , -1.6560413 , -1.51046121,\n",
       "        -1.36488111, -1.21930101, -1.07372092, -0.92814082, -0.78256073,\n",
       "        -0.63698063, -0.49140053, -0.34582044, -0.20024034, -0.05466024,\n",
       "         0.09091985,  0.23649995,  0.38208004,  0.52766014,  0.67324024,\n",
       "         0.81882033,  0.96440043,  1.10998053,  1.25556062,  1.40114072,\n",
       "         1.54672081,  1.69230091,  1.83788101,  1.9834611 ,  2.1290412 ,\n",
       "         2.2746213 ,  2.42020139,  2.56578149,  2.71136158,  2.85694168,\n",
       "         3.00252178,  3.14810187,  3.29368197,  3.43926207,  3.58484216,\n",
       "         3.73042226]),\n",
       " <BarContainer object of 50 artists>)"
      ]
     },
     "execution_count": 25,
     "metadata": {},
     "output_type": "execute_result"
    },
    {
     "data": {
      "image/png": "[encoded data removed]",
      "text/plain": [
       "<Figure size 2000x500 with 2 Axes>"
      ]
     },
     "metadata": {},
     "output_type": "display_data"
    }
   ],
   "source": [
    "x = torch.randn(1000,10)\n",
    "w = torch.randn(10,200) * 0.2\n",
    "y = x @ w\n",
    "print(x.mean(), x.std())\n",
    "print(y.mean(),y.std())\n",
    "plt.figure(figsize=(20,5))\n",
    "plt.subplot(121)\n",
    "plt.hist(x.view(-1).tolist(), 50, density=True)\n",
    "plt.subplot(122)\n",
    "plt.hist(y.view(-1).tolist(), 50, density=True)"
   ]
  },
  {
   "cell_type": "markdown",
   "id": "f23f8e86",
   "metadata": {},
   "source": [
    "## Note:\n",
    "- Now what do we multiply w with such that standard deviation remains 1? \n",
    "- The correct answer is to divide w by the square root of fan in (number of input elements). "
   ]
  },
  {
   "cell_type": "code",
   "execution_count": 26,
   "id": "e567ca3c",
   "metadata": {},
   "outputs": [
    {
     "name": "stdout",
     "output_type": "stream",
     "text": [
      "tensor(0.0130) tensor(0.9997)\n",
      "tensor(-0.0025) tensor(0.9969)\n"
     ]
    },
    {
     "data": {
      "text/plain": [
       "(array([2.28063254e-05, 2.28063254e-05, 6.84189761e-05, 6.84189761e-05,\n",
       "        2.28063254e-04, 1.82450603e-04, 3.42094880e-04, 5.70158134e-04,\n",
       "        9.12253015e-04, 1.73328073e-03, 3.07885392e-03, 5.33668014e-03,\n",
       "        7.82256960e-03, 1.36153762e-02, 2.08221751e-02, 3.32744287e-02,\n",
       "        5.01967221e-02, 7.54433243e-02, 1.02035500e-01, 1.44455265e-01,\n",
       "        1.91481908e-01, 2.55271200e-01, 3.12332626e-01, 3.65197688e-01,\n",
       "        4.07708679e-01, 4.30469391e-01, 4.24539747e-01, 3.88619784e-01,\n",
       "        3.27635670e-01, 2.70277762e-01, 2.14881198e-01, 1.60419693e-01,\n",
       "        1.13712338e-01, 8.13273563e-02, 5.45755366e-02, 3.70374724e-02,\n",
       "        2.45624124e-02, 1.55995266e-02, 9.51023768e-03, 6.02086990e-03,\n",
       "        3.99110694e-03, 2.34905151e-03, 1.43679850e-03, 8.43834039e-04,\n",
       "        3.64901206e-04, 5.47351809e-04, 1.36837952e-04, 1.14031627e-04,\n",
       "        0.00000000e+00, 6.84189761e-05]),\n",
       " array([-5.62794924, -5.40871181, -5.18947439, -4.97023697, -4.75099955,\n",
       "        -4.53176212, -4.3125247 , -4.09328728, -3.87404985, -3.65481243,\n",
       "        -3.43557501, -3.21633759, -2.99710016, -2.77786274, -2.55862532,\n",
       "        -2.33938789, -2.12015047, -1.90091305, -1.68167562, -1.4624382 ,\n",
       "        -1.24320078, -1.02396336, -0.80472593, -0.58548851, -0.36625109,\n",
       "        -0.14701366,  0.07222376,  0.29146118,  0.5106986 ,  0.72993603,\n",
       "         0.94917345,  1.16841087,  1.3876483 ,  1.60688572,  1.82612314,\n",
       "         2.04536057,  2.26459799,  2.48383541,  2.70307283,  2.92231026,\n",
       "         3.14154768,  3.3607851 ,  3.58002253,  3.79925995,  4.01849737,\n",
       "         4.23773479,  4.45697222,  4.67620964,  4.89544706,  5.11468449,\n",
       "         5.33392191]),\n",
       " <BarContainer object of 50 artists>)"
      ]
     },
     "execution_count": 26,
     "metadata": {},
     "output_type": "execute_result"
    },
    {
     "data": {
      "image/png": "[encoded data removed]",
      "text/plain": [
       "<Figure size 2000x500 with 2 Axes>"
      ]
     },
     "metadata": {},
     "output_type": "display_data"
    }
   ],
   "source": [
    "x = torch.randn(1000,10)\n",
    "w = torch.randn(10,200) / 10**0.5\n",
    "y = x @ w\n",
    "print(x.mean(), x.std())\n",
    "print(y.mean(),y.std())\n",
    "plt.figure(figsize=(20,5))\n",
    "plt.subplot(121)\n",
    "plt.hist(x.view(-1).tolist(), 50, density=True)\n",
    "plt.subplot(122)\n",
    "plt.hist(y.view(-1).tolist(), 50, density=True)"
   ]
  },
  {
   "cell_type": "markdown",
   "id": "e2d94ea2",
   "metadata": {},
   "source": [
    "## Note:\n",
    "- You should Kaiming initialization (there is a paper). It is also implemented in Pytorch.\n",
    "- This is the most common way of initializing the neuran networks now. Zero mean and unit standard deviation. \n",
    "- About the time this Kaiming paper came out, you had to be really careful the activations and the gradients, the gains, the nonlinearity. Everything was very fragile and finicky if the neural net was very deep. But there are many modern, that made everything very stable and well behaved and it has become less important to intialize these networks exactly right. These modern developments are residual connections, the use of various normalization layers like batch normalization, layer normalization, also much better optimizers like RMS Prop, ADAM. \n",
    "- Using Kaiming initialization in our example\n"
   ]
  },
  {
   "cell_type": "code",
   "execution_count": 48,
   "id": "ebec61b8",
   "metadata": {},
   "outputs": [
    {
     "name": "stdout",
     "output_type": "stream",
     "text": [
      "Total parameters: 11897\n"
     ]
    }
   ],
   "source": [
    "# Fixing the issue with tanh\n",
    "n_embd = 10 # Dimensionality of the character embedding vectors \n",
    "n_hidden = 200 # The number of neurons in the hidden layer \n",
    "\n",
    "\n",
    "g = torch.Generator().manual_seed(2147483647)\n",
    "C = torch.randn((vocab_size,n_embd), generator=g)\n",
    "W1 = torch.randn((n_embd * block_size,n_hidden), generator=g) * (5/3)/((n_embd * block_size)**0.5)\n",
    "b1 = torch.randn(n_hidden, generator=g) * 0.01\n",
    "W2 = torch.randn((n_hidden,vocab_size), generator=g) * 0.01\n",
    "b2 = torch.randn(vocab_size, generator=g) * 0\n",
    "parameters = [C, W1, b1, W2, b2]\n",
    "\n",
    "print(\"Total parameters:\", sum(p.nelement() for p in parameters)) # Number of parameters in total\n",
    "for p in parameters:\n",
    "    p.requires_grad = True"
   ]
  },
  {
   "cell_type": "code",
   "execution_count": 49,
   "id": "2305c3a5",
   "metadata": {},
   "outputs": [
    {
     "name": "stdout",
     "output_type": "stream",
     "text": [
      "      0/ 200000:3.3129\n",
      "  10000/ 200000:2.4228\n",
      "  20000/ 200000:2.3509\n",
      "  30000/ 200000:2.0158\n",
      "  40000/ 200000:2.0766\n",
      "  50000/ 200000:2.3837\n",
      "  60000/ 200000:2.2648\n",
      "  70000/ 200000:2.0855\n",
      "  80000/ 200000:1.9400\n",
      "  90000/ 200000:2.0193\n",
      " 100000/ 200000:2.4169\n",
      " 110000/ 200000:2.2877\n",
      " 120000/ 200000:2.2102\n",
      " 130000/ 200000:2.2873\n",
      " 140000/ 200000:2.0506\n",
      " 150000/ 200000:2.3827\n",
      " 160000/ 200000:2.1313\n",
      " 170000/ 200000:2.0129\n",
      " 180000/ 200000:2.4203\n",
      " 190000/ 200000:1.8138\n"
     ]
    }
   ],
   "source": [
    "max_steps = 200000\n",
    "batch_size = 32\n",
    "lossi = []\n",
    "\n",
    "for i in range(max_steps):\n",
    "    # Creating a mini batch \n",
    "    ix = torch.randint(0, Xtr.shape[0], (batch_size, ), generator=g)\n",
    "    # Forward pass\n",
    "    emb = C[Xtr[ix]] # (32,3,2) # Embed the characters into vectors\n",
    "    embcat = emb.view(emb.shape[0], -1) # Concatenate the vectors\n",
    "    hpreact = embcat @ W1 + b1\n",
    "    h = torch.tanh(hpreact)\n",
    "    logits = h @ W2 + b2\n",
    "    loss = F.cross_entropy(logits, Ytr[ix])\n",
    "    # Backward pass\n",
    "    for p in parameters:\n",
    "        p.grad = None\n",
    "    loss.backward()\n",
    "    #Update\n",
    "    lr = 0.1 if i < 100000 else 0.01\n",
    "    for p in parameters:\n",
    "        p.data += -0.1 * p.grad\n",
    "    # Track status\n",
    "    if i % 10000 == 0: # Print every once in a while\n",
    "        print(f'{i:7d}/{max_steps:7d}:{loss.item():.4f}')\n",
    "    lossi.append(loss.log10().item())\n",
    "    "
   ]
  },
  {
   "cell_type": "code",
   "execution_count": 50,
   "id": "31a22c42",
   "metadata": {},
   "outputs": [
    {
     "name": "stdout",
     "output_type": "stream",
     "text": [
      "train 2.107656240463257\n",
      "val 2.175814628601074\n"
     ]
    }
   ],
   "source": [
    "split_loss('train')\n",
    "split_loss('val')"
   ]
  },
  {
   "cell_type": "markdown",
   "id": "b90639e1",
   "metadata": {},
   "source": [
    "## Batch Normalization\n",
    "- The idea of batch normalization is to make the hidden states gaussian with zero mean and unit standard deviation at initialization. This operation is completely differentiable. \n",
    "- One point to note is that we want these hiddle state to be gaussian with zero mean and unit standard deviation only at initalization. During the training, we want them to move around as they are adjusted by the gradients. That is done in batch normalization using bngain and bnbias values. The values of bngain and bnbias change during backpropogation. "
   ]
  },
  {
   "cell_type": "code",
   "execution_count": 51,
   "id": "a10a676b",
   "metadata": {},
   "outputs": [
    {
     "name": "stdout",
     "output_type": "stream",
     "text": [
      "Total parameters: 12297\n"
     ]
    }
   ],
   "source": [
    "# Batch Normalization\n",
    "n_embd = 10 # Dimensionality of the character embedding vectors \n",
    "n_hidden = 200 # The number of neurons in the hidden layer \n",
    "\n",
    "\n",
    "g = torch.Generator().manual_seed(2147483647)\n",
    "C = torch.randn((vocab_size,n_embd), generator=g)\n",
    "W1 = torch.randn((n_embd * block_size,n_hidden), generator=g) * (5/3)/((n_embd * block_size)**0.5)\n",
    "b1 = torch.randn(n_hidden, generator=g) * 0.01\n",
    "W2 = torch.randn((n_hidden,vocab_size), generator=g) * 0.01\n",
    "b2 = torch.randn(vocab_size, generator=g) * 0\n",
    "\n",
    "\n",
    "bngain = torch.ones((1, n_hidden))\n",
    "bnbias = torch.zeros((1, n_hidden))\n",
    "\n",
    "bnmean_running = torch.zeros((1, n_hidden))\n",
    "bnstd_running = torch.ones((1, n_hidden))\n",
    "\n",
    "parameters = [C, W1, b1, W2, b2, bngain, bnbias]\n",
    "\n",
    "print(\"Total parameters:\", sum(p.nelement() for p in parameters)) # Number of parameters in total\n",
    "for p in parameters:\n",
    "    p.requires_grad = True"
   ]
  },
  {
   "cell_type": "code",
   "execution_count": 52,
   "id": "6fdcc339",
   "metadata": {},
   "outputs": [
    {
     "ename": "TypeError",
     "evalue": "unsupported operand type(s) for *: 'float' and 'NoneType'",
     "output_type": "error",
     "traceback": [
      "\u001b[0;31m---------------------------------------------------------------------------\u001b[0m",
      "\u001b[0;31mTypeError\u001b[0m                                 Traceback (most recent call last)",
      "Cell \u001b[0;32mIn[52], line 29\u001b[0m\n\u001b[1;32m     27\u001b[0m lr \u001b[38;5;241m=\u001b[39m \u001b[38;5;241m0.1\u001b[39m \u001b[38;5;28;01mif\u001b[39;00m i \u001b[38;5;241m<\u001b[39m \u001b[38;5;241m100000\u001b[39m \u001b[38;5;28;01melse\u001b[39;00m \u001b[38;5;241m0.01\u001b[39m\n\u001b[1;32m     28\u001b[0m \u001b[38;5;28;01mfor\u001b[39;00m p \u001b[38;5;129;01min\u001b[39;00m parameters:\n\u001b[0;32m---> 29\u001b[0m     p\u001b[38;5;241m.\u001b[39mdata \u001b[38;5;241m+\u001b[39m\u001b[38;5;241m=\u001b[39m \u001b[38;5;241m-\u001b[39m\u001b[38;5;241m0.1\u001b[39m \u001b[38;5;241m*\u001b[39m p\u001b[38;5;241m.\u001b[39mgrad\n\u001b[1;32m     30\u001b[0m \u001b[38;5;66;03m# Track status\u001b[39;00m\n\u001b[1;32m     31\u001b[0m \u001b[38;5;28;01mif\u001b[39;00m i \u001b[38;5;241m%\u001b[39m \u001b[38;5;241m10000\u001b[39m \u001b[38;5;241m==\u001b[39m \u001b[38;5;241m0\u001b[39m: \u001b[38;5;66;03m# Print every once in a while\u001b[39;00m\n",
      "\u001b[0;31mTypeError\u001b[0m: unsupported operand type(s) for *: 'float' and 'NoneType'"
     ]
    }
   ],
   "source": [
    "max_steps = 200000\n",
    "batch_size = 32\n",
    "lossi = []\n",
    "\n",
    "for i in range(max_steps):\n",
    "    # Creating a mini batch \n",
    "    ix = torch.randint(0, Xtr.shape[0], (batch_size, ), generator=g)\n",
    "    # Forward pass\n",
    "    emb = C[Xtr[ix]] # (32,3,2) # Embed the characters into vectors\n",
    "    embcat = emb.view(emb.shape[0], -1) # Concatenate the vectors\n",
    "    hpreact = embcat @ W1 # + b1 Not needed because of batch normalization.\n",
    "    bnmeani = hpreact.mean(0, keepdim=True)\n",
    "    bnstdi = hpreact.std(0, keepdim=True)\n",
    "    hpreact = bngain * (hpreact - bnmeani) / bnstdi + bnbias\n",
    "    \n",
    "    with torch.no_grad():\n",
    "        bnmean_running = 0.999 * bnmean_running + 0.001 * bnmeani\n",
    "        bnstd_running = 0.999 * bnstd_running + 0.001 * bnstdi\n",
    "    h = torch.tanh(hpreact)\n",
    "    logits = h @ W2 + b2\n",
    "    loss = F.cross_entropy(logits, Ytr[ix])\n",
    "    # Backward pass\n",
    "    for p in parameters:\n",
    "        p.grad = None\n",
    "    loss.backward()\n",
    "    #Update\n",
    "    lr = 0.1 if i < 100000 else 0.01\n",
    "    for p in parameters:\n",
    "        p.data += -0.1 * p.grad\n",
    "    # Track status\n",
    "    if i % 10000 == 0: # Print every once in a while\n",
    "        print(f'{i:7d}/{max_steps:7d}:{loss.item():.4f}')\n",
    "    lossi.append(loss.log10().item())\n",
    "    "
   ]
  },
  {
   "cell_type": "markdown",
   "id": "24724f81",
   "metadata": {},
   "source": [
    "### Note:\n",
    "- We also need to do batch normalization during the test time. "
   ]
  },
  {
   "cell_type": "markdown",
   "id": "b4288d21",
   "metadata": {},
   "source": [
    "### Note:\n",
    "- Batch normalization is easy to implement in very deep neural nets compared to the previous approach. Its easy to sprinkle batch normalization layers through out the neural network.\n",
    "- Batch normalization provides great stability to training process. \n",
    "- But stability comes at a cost, as we are doing batch normalization and finding meaning and standard deviation of the batch of the examples in a hidden state of a single example we are kind of mathematically coupling these batch of examples. So the hidden states or the logits are not only the function of a single example but a function of the batch of the examples. This seems to be a bug but it turns out to be good in training as side effect. It acts like a regularizer. It is adding entropy in a particular example and making harder for neural nets to overfit. \n",
    "- This coupling also affects the inference stage. As we are using batch normalized h values are coupled with all the examples in the batches. To solve this issue, we will have a step after training, that calculates the batchnorm mean and standard deviation a single time over the training set. And we use those values to calculate h. Refer the following cells. "
   ]
  },
  {
   "cell_type": "code",
   "execution_count": 36,
   "id": "13710dfc",
   "metadata": {},
   "outputs": [],
   "source": [
    "# Calibrate the batch norm at the end of training \n",
    "\n",
    "with torch.no_grad():\n",
    "    # Pass the training set through \n",
    "    emb = C[Xtr]\n",
    "    embcat = emb.view(emb.shape[0], -1)\n",
    "    hpreact = embcat @ W1 + b1\n",
    "    bnmean = hpreact.mean(0, keepdim=True)\n",
    "    bnstd = hpreact.std(0, keepdim=True)"
   ]
  },
  {
   "cell_type": "code",
   "execution_count": 37,
   "id": "7d5ea0dd",
   "metadata": {},
   "outputs": [
    {
     "name": "stdout",
     "output_type": "stream",
     "text": [
      "train 3.305549383163452\n",
      "val 3.3059051036834717\n"
     ]
    }
   ],
   "source": [
    "@torch.no_grad() # This decorator disables gradient tracking it almost like all the tensors created in the function has requires_grad = falls. \n",
    "def split_loss(split):\n",
    "    x,y = {\n",
    "        'train': (Xtr, Ytr),\n",
    "        'val': {Xdev, Ydev},\n",
    "        'test': {Xte, Yte},\n",
    "    }[split]\n",
    "    emb = C[x]\n",
    "    embcat = emb.view(emb.shape[0], -1) # Concatenate the vectors\n",
    "    hpreact = embcat @ W1 + b1\n",
    "    hpreact = bngain * (hpreact - bnmean) / bnstd + bnbias\n",
    "    h = torch.tanh(hpreact)\n",
    "    logits = h @ W2 + b2\n",
    "    loss = F.cross_entropy(logits, y)\n",
    "    print(split, loss.item())\n",
    "    \n",
    "split_loss('train')\n",
    "split_loss('val')"
   ]
  },
  {
   "cell_type": "markdown",
   "id": "a7313fa7",
   "metadata": {},
   "source": [
    "### Note:\n",
    "- The same mean and standard deviations can be calculated in running manner. \n"
   ]
  },
  {
   "cell_type": "code",
   "execution_count": 38,
   "id": "cf2d00cf",
   "metadata": {},
   "outputs": [
    {
     "name": "stdout",
     "output_type": "stream",
     "text": [
      "train 3.308145046234131\n",
      "val 3.3086113929748535\n"
     ]
    }
   ],
   "source": [
    "@torch.no_grad() # This decorator disables gradient tracking it almost like all the tensors created in the function has requires_grad = falls. \n",
    "def split_loss(split):\n",
    "    x,y = {\n",
    "        'train': (Xtr, Ytr),\n",
    "        'val': {Xdev, Ydev},\n",
    "        'test': {Xte, Yte},\n",
    "    }[split]\n",
    "    emb = C[x]\n",
    "    embcat = emb.view(emb.shape[0], -1) # Concatenate the vectors\n",
    "    hpreact = embcat @ W1 + b1\n",
    "    hpreact = bngain * (hpreact - bnmean_running) / bnstd_running + bnbias\n",
    "    h = torch.tanh(hpreact)\n",
    "    logits = h @ W2 + b2\n",
    "    loss = F.cross_entropy(logits, y)\n",
    "    print(split, loss.item())\n",
    "    \n",
    "split_loss('train')\n",
    "split_loss('val')"
   ]
  },
  {
   "cell_type": "markdown",
   "id": "023b287c",
   "metadata": {},
   "source": [
    "## Note:\n",
    "- When we are using batch normalization then the bias term becomes useless as we are calulating mean and then subtracting it. If you check b1.grad that would be zero."
   ]
  },
  {
   "cell_type": "code",
   "execution_count": null,
   "id": "986ad344",
   "metadata": {},
   "outputs": [],
   "source": []
  },
  {
   "cell_type": "code",
   "execution_count": null,
   "id": "2fb767ef",
   "metadata": {},
   "outputs": [],
   "source": []
  }
 ],
 "metadata": {
  "kernelspec": {
   "display_name": "Python 3 (ipykernel)",
   "language": "python",
   "name": "python3"
  },
  "language_info": {
   "codemirror_mode": {
    "name": "ipython",
    "version": 3
   },
   "file_extension": ".py",
   "mimetype": "text/x-python",
   "name": "python",
   "nbconvert_exporter": "python",
   "pygments_lexer": "ipython3",
   "version": "3.11.5"
  }
 },
 "nbformat": 4,
 "nbformat_minor": 5
}
